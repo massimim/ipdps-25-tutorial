{
 "cells": [
  {
   "cell_type": "markdown",
   "id": "3f42b27c-a6b9-4cd3-afb5-a90b9e010c87",
   "metadata": {
    "editable": true,
    "slideshow": {
     "slide_type": ""
    },
    "tags": []
   },
   "source": [
    "# LBM - Structure-of-Arrays (AoS)"
   ]
  },
  {
   "cell_type": "code",
   "execution_count": 1,
   "id": "99459cad-75d9-42e2-9cbe-588c08c9076e",
   "metadata": {
    "editable": true,
    "scrolled": true,
    "slideshow": {
     "slide_type": ""
    },
    "tags": []
   },
   "outputs": [
    {
     "name": "stdout",
     "output_type": "stream",
     "text": [
      "Warp 1.7.1 initialized:\n",
      "   CUDA Toolkit 12.8, Driver 12.8\n",
      "   Devices:\n",
      "     \"cpu\"      : \"x86_64\"\n",
      "     \"cuda:0\"   : \"NVIDIA RTX A4000\" (16 GiB, sm_86, mempool enabled)\n",
      "   Kernel cache:\n",
      "     /root/.cache/warp/1.7.1\n",
      "LBM Problem Parameters(nx=1024, ny=1024, num_steps=5000, Re=10000.0, prescribed_vel=0.5)\n"
     ]
    }
   ],
   "source": [
    "import lbm\n",
    "import time\n",
    "import warp as wp\n",
    "wp.clear_kernel_cache()\n",
    "exercise_name = \"01-lbm-singleGPU-soa\"\n",
    "\n",
    "params = lbm.Parameters(num_steps=5000,\n",
    "                        nx=1024 ,\n",
    "                        ny=1024 ,\n",
    "                        prescribed_vel=0.5,\n",
    "                        Re=10000.0)\n",
    "print(params)\n"
   ]
  },
  {
   "cell_type": "markdown",
   "id": "38017aef-e41b-4fbe-9fed-899dca33140a",
   "metadata": {},
   "source": [
    "## A Structure-of-Arrays Layout for the LBM Populations\n",
    "\n",
    "In the previous example, an implementation of the LBM method was introduced leveraging the Array-of-Structures (AoS) layout.  \n",
    "In this exercise, we are going to implement a Structure-of-Arrays (SoA) solution and compare it with the AoS version.  \n",
    "\n",
    "<figure>\n",
    "  <img src=\"img/panda.png\" alt=\"Exercise\" width=\"7%\" style=\"float: left; margin-right: 10px; margin-bottom: 10px;\">\n",
    "  <figcaption><strong>Exercise</strong>: Currently, the next two cells define allocation and access functionalities for the population based on the AoS layout. Please change them to match a SoA layout. Remember to always check the correctness of the results by comparing the final velocity magnitude.\n",
    "  </figcaption>\n",
    "</figure>"
   ]
  },
  {
   "cell_type": "code",
   "execution_count": 2,
   "id": "fb061fff-b421-4313-8294-223e58449e09",
   "metadata": {},
   "outputs": [],
   "source": [
    "f_0 = wp.zeros((params.Q, params.nx, params.ny), dtype=wp.float64)\n",
    "f_1 = wp.zeros((params.Q, params.nx, params.ny), dtype=wp.float64)"
   ]
  },
  {
   "cell_type": "code",
   "execution_count": 3,
   "id": "523e820e-b064-460d-b7e1-2df242cfc94b",
   "metadata": {},
   "outputs": [],
   "source": [
    "@wp.func\n",
    "def read_field(field: wp.array3d(dtype=wp.float64), card: wp.int32, xi: wp.int32, yi: wp.int32):\n",
    "    return field[card, xi, yi]\n",
    "\n",
    "@wp.func\n",
    "def write_field(field: wp.array3d(dtype=wp.float64), card: wp.int32, xi: wp.int32, yi: wp.int32,\n",
    "                value: wp.float64):\n",
    "    field[card, xi, yi] = value"
   ]
  },
  {
   "cell_type": "markdown",
   "id": "18a335df-8218-4d52-8bfc-efd2b95da05a",
   "metadata": {},
   "source": [
    "## LBM Kernels\n",
    "\n",
    "Next, we report the same kernels presented in the previous example."
   ]
  },
  {
   "cell_type": "code",
   "execution_count": 4,
   "id": "5b5e9441-faed-4018-838a-c6824f513810",
   "metadata": {},
   "outputs": [],
   "source": [
    "# Initialize the memory\n",
    "mem = lbm.Memory(params,\n",
    "                 f_0=f_0,\n",
    "                 f_1=f_1,\n",
    "                 read=read_field,\n",
    "                 write=write_field)\n",
    "\n",
    "# Initialize the kernels\n",
    "functions = lbm.Functions(params)\n",
    "kernels = lbm.Kernels(params, mem)\n",
    "\n",
    "Q = params.Q\n",
    "D = params.D\n",
    "bc_bulk = params.bc_bulk\n",
    "c_dev = params.c_dev\n",
    "dim_dev = params.dim_dev"
   ]
  },
  {
   "cell_type": "code",
   "execution_count": 5,
   "id": "f6f4851f-428e-43fd-b4c4-6230d9cc0420",
   "metadata": {},
   "outputs": [],
   "source": [
    "@wp.kernel\n",
    "def stream(\n",
    "        f_in: wp.array3d(dtype=wp.float64),\n",
    "        f_out: wp.array3d(dtype=wp.float64),\n",
    "):\n",
    "    # Get the global index\n",
    "    ix, iy = wp.tid()\n",
    "    index = wp.vec2i(ix, iy)\n",
    "    f_post = wp.vec(length=Q, dtype=wp.float64)\n",
    "\n",
    "    for q in range(params.Q):\n",
    "        pull_ngh = wp.vec2i(0, 0)\n",
    "        outside_domain = False\n",
    "\n",
    "        for d in range(D):\n",
    "            pull_ngh[d] = index[d] - c_dev[d, q]\n",
    "\n",
    "            if pull_ngh[d] < 0 or pull_ngh[d] >= dim_dev[d]:\n",
    "                outside_domain = True\n",
    "        if not outside_domain:\n",
    "            f_post[q] = read_field(field=f_in, card=q, xi=pull_ngh[0], yi=pull_ngh[1])\n",
    "\n",
    "    # Set the output\n",
    "    for q in range(params.Q):\n",
    "        write_field(field=f_out, card=q, xi=index[0], yi=index[1], value=f_post[q])"
   ]
  },
  {
   "cell_type": "code",
   "execution_count": 6,
   "id": "5a7c8ccf-4eb5-4a66-b0bc-fbcb795cd98b",
   "metadata": {},
   "outputs": [],
   "source": [
    "compute_boundaries = functions.get_apply_boundary_conditions()\n",
    "\n",
    "@wp.kernel\n",
    "def apply_boundary_conditions(\n",
    "        bc_type_field: wp.array2d(dtype=wp.uint8),\n",
    "        f_out: wp.array3d(dtype=wp.float64),\n",
    "):\n",
    "    # Get the global index\n",
    "    ix, iy = wp.tid()\n",
    "\n",
    "    bc_type = bc_type_field[ix, iy]\n",
    "    if bc_type == bc_bulk:\n",
    "        return\n",
    "\n",
    "    f = compute_boundaries(bc_type)\n",
    "\n",
    "    for q in range(params.Q):\n",
    "        write_field(field=f_out, card=q, xi=ix, yi=iy, value=f[q])"
   ]
  },
  {
   "cell_type": "code",
   "execution_count": 7,
   "id": "b9e58ad5-b5bd-4dc5-9431-802ebfad0599",
   "metadata": {},
   "outputs": [],
   "source": [
    "compute_macroscopic = functions.get_macroscopic()\n",
    "compute_equilibrium = functions.get_equilibrium()\n",
    "compute_collision = functions.get_kbc()\n",
    "\n",
    "@wp.kernel\n",
    "def collide(\n",
    "        f: wp.array3d(dtype=wp.float64),\n",
    "        omega: wp.float64,\n",
    "):\n",
    "    # Get the global index\n",
    "    ix, iy = wp.tid()\n",
    "    # Get the equilibrium\n",
    "\n",
    "    f_post_stream = wp.vec(length=Q, dtype=wp.float64)\n",
    "    for q in range(params.Q):\n",
    "        f_post_stream[q] = read_field(field=f, card=q, xi=ix, yi=iy)\n",
    "\n",
    "    mcrpc = compute_macroscopic(f_post_stream)\n",
    "\n",
    "    # Compute the equilibrium\n",
    "    f_eq = compute_equilibrium(mcrpc)\n",
    "\n",
    "    f_post_collision = compute_collision(f_post_stream, f_eq, mcrpc, omega)\n",
    "\n",
    "    # Set the output\n",
    "    for q in range(params.Q):\n",
    "        write_field(field=f, card=q, xi=ix, yi=iy, value=f_post_collision[q])"
   ]
  },
  {
   "cell_type": "code",
   "execution_count": 8,
   "id": "b8e27b55-e03c-4948-a07a-2ca7d25cf977",
   "metadata": {},
   "outputs": [
    {
     "name": "stdout",
     "output_type": "stream",
     "text": [
      "Module lbm.kernels 218bc5d load on device 'cuda:0' took 132.82 ms  (compiled)\n",
      "Module lbm.kernels ba5c45c load on device 'cuda:0' took 283.15 ms  (compiled)\n"
     ]
    },
    {
     "data": {
      "text/plain": [
       "<Figure size 640x480 with 0 Axes>"
      ]
     },
     "metadata": {},
     "output_type": "display_data"
    }
   ],
   "source": [
    "lbm.setup_LDC_problem(params=params, mem=mem)\n",
    "lbm.export_setup(prefix=exercise_name, params=params, mem=mem)"
   ]
  },
  {
   "cell_type": "markdown",
   "id": "f9460ac2-abaa-4b38-b10a-8d385c2787a3",
   "metadata": {},
   "source": [
    "## LMB iteration\n"
   ]
  },
  {
   "cell_type": "code",
   "execution_count": 9,
   "id": "2723a8bf-84bf-4d1e-92e9-61d9980c208e",
   "metadata": {
    "editable": true,
    "slideshow": {
     "slide_type": ""
    },
    "tags": []
   },
   "outputs": [],
   "source": [
    "def iterate():\n",
    "    wp.launch(stream,\n",
    "              dim=params.launch_dim,\n",
    "              inputs=[mem.f_0, mem.f_1],\n",
    "              device=\"cuda\")\n",
    "\n",
    "    wp.launch(apply_boundary_conditions,\n",
    "              dim=params.launch_dim,\n",
    "              inputs=[mem.bc_type, mem.f_1],\n",
    "              device=\"cuda\")\n",
    "\n",
    "    wp.launch(collide,\n",
    "              dim=params.launch_dim,\n",
    "              inputs=[mem.f_1, params.omega],\n",
    "              device=\"cuda\")\n",
    "    # Swap the fields\n",
    "    mem.f_0, mem.f_1 = mem.f_1, mem.f_0"
   ]
  },
  {
   "cell_type": "markdown",
   "id": "aee161ca-944e-46e5-9594-15fb9f777379",
   "metadata": {},
   "source": [
    "## Main Loop"
   ]
  },
  {
   "cell_type": "code",
   "execution_count": 10,
   "id": "37647134-b50b-422a-be1b-d34a7a668f88",
   "metadata": {
    "editable": true,
    "slideshow": {
     "slide_type": ""
    },
    "tags": []
   },
   "outputs": [
    {
     "name": "stdout",
     "output_type": "stream",
     "text": [
      "Module __main__ b947c69 load on device 'cuda:0' took 946.59 ms  (compiled)\n",
      "Module lbm.kernels 641e288 load on device 'cuda:0' took 366.78 ms  (compiled)\n"
     ]
    },
    {
     "data": {
      "text/plain": [
       "<Figure size 640x480 with 0 Axes>"
      ]
     },
     "metadata": {},
     "output_type": "display_data"
    }
   ],
   "source": [
    "# Warm up iteration\n",
    "iterate()\n",
    "\n",
    "# Wait for the warm-up to finish.\n",
    "wp.synchronize()\n",
    "# Start timer\n",
    "start = time.time()\n",
    "for it in range(params.num_steps):\n",
    "    iterate()\n",
    "\n",
    "wp.synchronize()\n",
    "stop = time.time()\n",
    "\n",
    "# Saving the velocity magnitude.\n",
    "lbm.export_final(prefix=exercise_name, params=params, mem=mem, f=mem.f_0)"
   ]
  },
  {
   "cell_type": "markdown",
   "id": "8ce2e7b7-7bf4-4b45-85a2-d1f4d5304977",
   "metadata": {
    "editable": true,
    "slideshow": {
     "slide_type": ""
    },
    "tags": []
   },
   "source": [
    "## Performance\n",
    "\n",
    "<figure>\n",
    "  <img src=\"img/panda.png\" alt=\"Exercise\" width=\"7%\" style=\"float: left; margin-right: 10px; margin-bottom: 10px;\">\n",
    "  <figcaption><strong>Exercise</strong>: How does performance change when moving from AoS to SoA? Why? Also, run the profiler to observe the performance differences for each kernel.\n",
    "  </figcaption>\n",
    "</figure>"
   ]
  },
  {
   "cell_type": "code",
   "execution_count": 11,
   "id": "7718de91-22e3-45ab-9b80-6f1616ebd1e3",
   "metadata": {},
   "outputs": [
    {
     "name": "stdout",
     "output_type": "stream",
     "text": [
      "--------------------------------------------\n",
      "Exercise: 01-lbm-singleGPU-soa\n",
      "Main loop time: 16.916 seconds\n",
      "MLUPS:          309.9\n",
      "--------------------------------------------\n"
     ]
    }
   ],
   "source": [
    "# Printing some statistics.\n",
    "elapsed_time = stop - start\n",
    "mlups = params.compute_mlups(elapsed_time)\n",
    "print(f\"--------------------------------------------\")\n",
    "print(f\"Exercise: {exercise_name}\")\n",
    "print(f\"Main loop time: {elapsed_time:5.3f} seconds\")\n",
    "print(f\"MLUPS:          {mlups:5.1f}\")\n",
    "print(f\"--------------------------------------------\")"
   ]
  }
 ],
 "metadata": {
  "kernelspec": {
   "display_name": "Python 3 (ipykernel)",
   "language": "python",
   "name": "python3"
  },
  "language_info": {
   "codemirror_mode": {
    "name": "ipython",
    "version": 3
   },
   "file_extension": ".py",
   "mimetype": "text/x-python",
   "name": "python",
   "nbconvert_exporter": "python",
   "pygments_lexer": "ipython3",
   "version": "3.10.12"
  }
 },
 "nbformat": 4,
 "nbformat_minor": 5
}
