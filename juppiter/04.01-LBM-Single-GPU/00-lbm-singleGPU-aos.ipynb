{
 "cells": [
  {
   "cell_type": "markdown",
   "id": "3f42b27c-a6b9-4cd3-afb5-a90b9e010c87",
   "metadata": {
    "editable": true,
    "slideshow": {
     "slide_type": ""
    },
    "tags": []
   },
   "source": [
    "# LBM\n",
    "\n",
    "<figure>\n",
    "  <img src=\"https://raw.githubusercontent.com/autodesk/xlb/main/assets/wind_turbine.gif\" width=\"500\" height=\"340\" alt=\"Wind turbine from XLB library\">\n",
    "  <figcaption><strong>Figure 1: Wind turbine from XLB library</strong></figcaption>\n",
    "</figure>\n",
    "\n",
    "The Lattice Boltzmann method is a relatively recent numerical technique in computational fluid dynamics (CFD). It offers features that make it extremely scalable on HPC systems. We will explore how some of the multi-GPU programming techniques presented in previous exercises can be applied to an LBM-based solver.\n",
    "\n",
    "Next, we introduce basic LBM concepts for a 2D problem. For general information, see the Wikipedia page: [Lattice Boltzmann methods](https://en.wikipedia.org/wiki/Lattice_Boltzmann_methods).\n",
    "\n",
    "Part of the code in these exercises has been adapted from the XLB library—a scalable, differentiable, open-source Python library for LBM developed by Autodesk. To run and profile more complex problems, check out its GitHub page: [XLB](https://github.com/Autodesk/XLB).\n"
   ]
  },
  {
   "cell_type": "markdown",
   "id": "4b471dfa-c105-4bb1-9dcb-7e747b9ab325",
   "metadata": {},
   "source": [
    "## Lattice Boltzmann Method\n",
    "\n",
    "In the Lattice Boltzmann Method (LBM), the state of the fluid at each lattice node is represented by a set of particle distribution functions, $f_i(\\mathbf{x}, t)$. Each $f_i$ can be thought of as the probability (or, more precisely, the expected number) of finding a fluid “particle” at position $\\mathbf{x}$ and time $t$ that is moving along the discrete velocity direction $\\mathbf{e}_i$. Rather than tracking individual molecules, LBM evolves these distributions through collision and streaming steps. In the collision step, the distributions at each node relax toward a local equilibrium—the Maxwell–Boltzmann distribution projected onto the discrete velocity set—ensuring that mass and momentum are conserved. In the streaming step, these post-collision distributions propagate to neighboring nodes, advecting the particle probabilities across the lattice.\n",
    "\n",
    "Because each distribution $f_i$ carries a fraction of the local density and momentum, macroscopic properties are retrieved simply by summing over all directions:\n",
    "\n",
    "$$\n",
    "\\rho(\\mathbf{x}, t) \\;=\\; \\sum_{i} f_i(\\mathbf{x}, t),\n",
    "\\qquad\n",
    "\\rho(\\mathbf{x}, t)\\,\\mathbf{u}(\\mathbf{x}, t) \\;=\\; \\sum_{i} f_i(\\mathbf{x}, t)\\,\\mathbf{e}_i.\n",
    "$$\n",
    "\n",
    "This probabilistic interpretation makes LBM inherently statistical: collisions model how particle velocities redistribute toward equilibrium under local forces, and streaming moves those probabilities through space. It’s this combination of stochastic interpretation and discrete lattice mechanics that gives LBM both its physical fidelity and its remarkable parallel scalability.\n"
   ]
  },
  {
   "cell_type": "markdown",
   "id": "52f50035-9635-4589-989d-523b5e9f45dc",
   "metadata": {
    "editable": true,
    "slideshow": {
     "slide_type": ""
    },
    "tags": []
   },
   "source": [
    "## Starting Our First LBM Solver\n",
    "\n",
    "Implementing and optimizing an LBM solver on multi-GPU systems using Warp promises to be an engaging challenge. However, to focus on core computational details without getting bogged down in tedious solver setup, we will leverage a local Python library called `lbm`. This library handles setting up most of the LBM data structures and problem configuration.\n",
    "\n",
    "We'll first define the size of our 2D domain and the number of iterations we want to run.  \n",
    "<!-- <img src=\"img/lattice-discretization.jpg\" width=\"500\" height=\"340\"> -->\n",
    "\n",
    "We are going to use some reference results to check the correctness of the solver when we apply a change to the code. The reference results are obtained with the following set of parameters:\n",
    "\n",
    "`LBM Problem Parameters(nx=1024, ny=1024, num_steps=5000, Re=10000.0, prescribed_vel=0.5)`\n"
   ]
  },
  {
   "cell_type": "code",
   "execution_count": 1,
   "id": "99459cad-75d9-42e2-9cbe-588c08c9076e",
   "metadata": {
    "editable": true,
    "slideshow": {
     "slide_type": ""
    },
    "tags": []
   },
   "outputs": [
    {
     "name": "stdout",
     "output_type": "stream",
     "text": [
      "Warp 1.7.1 initialized:\n",
      "   CUDA Toolkit 12.8, Driver 12.8\n",
      "   Devices:\n",
      "     \"cpu\"      : \"x86_64\"\n",
      "     \"cuda:0\"   : \"NVIDIA RTX A4000\" (16 GiB, sm_86, mempool enabled)\n",
      "   Kernel cache:\n",
      "     /root/.cache/warp/1.7.1\n",
      "LBM Problem Parameters(nx=1024, ny=1024, num_steps=5000, Re=10000.0, prescribed_vel=0.5)\n"
     ]
    }
   ],
   "source": [
    "import lbm\n",
    "import time\n",
    "import warp as wp\n",
    "wp.clear_kernel_cache()\n",
    "exercise_name = \"00-lbm-singleGPU-aos\"\n",
    "\n",
    "params = lbm.Parameters(num_steps=5000,\n",
    "                        nx=1024 ,\n",
    "                        ny=1024 ,\n",
    "                        prescribed_vel=0.5,\n",
    "                        Re=10000.0)\n",
    "print(params)\n"
   ]
  },
  {
   "cell_type": "markdown",
   "id": "b24a83d6-66ff-4756-81db-ae83adb93022",
   "metadata": {
    "editable": true,
    "slideshow": {
     "slide_type": ""
    },
    "tags": []
   },
   "source": [
    "The **Parameter** class stores some LBM constants, for example, the representation of the lattice. There are different lattices for LBM, and the following three are just examples.\n",
    "\n",
    "<figure>\n",
    "  <img src=\"img/lattices.jpg\" alt=\"LBM lattice structures in 2D and 3D\" width=\"500\" height=\"340\">\n",
    "  <figcaption><strong>Figure 2: LBM lattice structures in 2D and 3D</strong></figcaption>\n",
    "</figure>\n",
    "\n",
    "In our case, we'll be using a D2Q9 lattice. The velocity vectors of the D2Q9 are represented by the **Parameter** via the **c_host** and **c_dev** fields. It is worth noting that the lattice includes a null vector representing the center of the cell."
   ]
  },
  {
   "cell_type": "code",
   "execution_count": 2,
   "id": "a9dd367d-bfc3-42c7-ac9e-238c4246ef59",
   "metadata": {
    "editable": true,
    "slideshow": {
     "slide_type": ""
    },
    "tags": []
   },
   "outputs": [
    {
     "data": {
      "text/plain": [
       "(2, 9)"
      ]
     },
     "execution_count": 2,
     "metadata": {},
     "output_type": "execute_result"
    }
   ],
   "source": [
    "params.c_host.shape"
   ]
  },
  {
   "cell_type": "code",
   "execution_count": 3,
   "id": "f4d74c6a-56d9-4283-be12-e66ccd629078",
   "metadata": {},
   "outputs": [
    {
     "name": "stdout",
     "output_type": "stream",
     "text": [
      "D2Q9 \n",
      "[[ 0  0  0  1 -1  1 -1  1 -1]\n",
      " [ 0  1 -1  0  1 -1  0  1 -1]]\n"
     ]
    }
   ],
   "source": [
    "print(f\"D2Q9 \\n{params.c_host}\")"
   ]
  },
  {
   "cell_type": "markdown",
   "id": "35a5ffd1-5d97-4a1a-9d26-c935f059b702",
   "metadata": {},
   "source": [
    "The **Parameter** class also includes functionality to retrieve the opposite direction in the lattice, as follows:"
   ]
  },
  {
   "cell_type": "code",
   "execution_count": 4,
   "id": "03fd2e4e-3653-4760-ae0c-a1dea241a69a",
   "metadata": {},
   "outputs": [
    {
     "name": "stdout",
     "output_type": "stream",
     "text": [
      "The opposite lattice direction of [ 0 -1] is [0 1]\n"
     ]
    }
   ],
   "source": [
    "a_target_direction = params.c_host[:,2]\n",
    "its_opposite = params.c_host[:,params.opp_indices_host[2]]\n",
    "print(f\"The opposite lattice direction of {a_target_direction} is {its_opposite}\")"
   ]
  },
  {
   "cell_type": "markdown",
   "id": "3592e205-7dbb-4826-9805-293c27d8f88b",
   "metadata": {},
   "source": [
    "## The LBM Domain\n",
    "\n",
    "<figure>\n",
    "  <img src=\"img/lattice-discretization.jpg\" alt=\"Domain discretization in LBM\" width=\"500\" height=\"340\">\n",
    "  <figcaption><strong>Figure 3: Domain discretization in LBM</strong></figcaption>\n",
    "</figure>\n",
    "\n",
    "In LBM, we discretize the domain with a Cartesian background grid. To represent the probability distribution fields \\(f_i\\), we store, for each cell, one floating-point value per lattice direction. Therefore, we need to allocate a three-dimensional array where two dimensions represent the 2D spatial domain and the third represents the number of directions.\n",
    "\n",
    "<figure>\n",
    "  <img src=\"img/panda.png\" alt=\"Exercise\" width=\"7%\" style=\"float: left; margin-right: 10px; margin-bottom: 10px;\">\n",
    "  <figcaption><strong>Exercise</strong>: Below is the shape of the 3D array for an Array-of-Structures layout.\n",
    "  </figcaption>\n",
    "</figure>\n"
   ]
  },
  {
   "cell_type": "code",
   "execution_count": 5,
   "id": "fb061fff-b421-4313-8294-223e58449e09",
   "metadata": {},
   "outputs": [],
   "source": [
    "f_0 = wp.zeros((params.nx, params.ny, params.Q), dtype=wp.float64)\n",
    "f_1 = wp.zeros((params.nx, params.ny, params.Q), dtype=wp.float64)"
   ]
  },
  {
   "cell_type": "markdown",
   "id": "48b6c0c5-9a43-4d16-ab6b-ba3e4c4e78bd",
   "metadata": {},
   "source": [
    "To abstract access to the population fields, we can define some read and write helper functions.\n"
   ]
  },
  {
   "cell_type": "code",
   "execution_count": 6,
   "id": "523e820e-b064-460d-b7e1-2df242cfc94b",
   "metadata": {},
   "outputs": [],
   "source": [
    "@wp.func\n",
    "def read_field(field: wp.array3d(dtype=wp.float64), card: wp.int32, xi: wp.int32, yi: wp.int32):\n",
    "    return field[xi, yi, card]\n",
    "\n",
    "@wp.func\n",
    "def write_field(field: wp.array3d(dtype=wp.float64), card: wp.int32, xi: wp.int32, yi: wp.int32,\n",
    "                value: wp.float64):\n",
    "    field[xi, yi, card] = value"
   ]
  },
  {
   "cell_type": "markdown",
   "id": "ddc2d9c3-38a6-431e-987c-bbfde4d1a34b",
   "metadata": {},
   "source": [
    "## Some Helper Functions\n",
    "\n",
    "In the following, we’ll use the **lbm** library to allocate additional fields for the macroscopic quantities. We aren’t concerned with these fields beyond visualization—indeed, the population fields are the only state variables required for LBM. We will also define several functions and kernels that serve as black boxes in our LBM solver."
   ]
  },
  {
   "cell_type": "code",
   "execution_count": 7,
   "id": "5b5e9441-faed-4018-838a-c6824f513810",
   "metadata": {},
   "outputs": [],
   "source": [
    "# Initialize the memory\n",
    "mem = lbm.Memory(params,\n",
    "                 f_0=f_0,\n",
    "                 f_1=f_1,\n",
    "                 read=read_field,\n",
    "                 write=write_field)\n",
    "\n",
    "# Initialize the kernels\n",
    "functions = lbm.Functions(params)\n",
    "kernels = lbm.Kernels(params, mem)\n",
    "\n",
    "Q = params.Q\n",
    "D = params.D\n",
    "bc_bulk = params.bc_bulk\n",
    "c_dev = params.c_dev\n",
    "dim_dev = params.dim_dev"
   ]
  },
  {
   "cell_type": "markdown",
   "id": "23fed23a-e204-424b-8445-d8147eef2b21",
   "metadata": {},
   "source": [
    "## The LBM Operators\n",
    "\n",
    "For the type of problem we will examine, an LBM iteration consists of three operators: **streaming**, the management of **boundary conditions**, and **collision**.  \n",
    "We will not delve into the numerical methods details of these operators, as this is out of scope for this tutorial.  \n",
    "\n",
    "<figure>\n",
    "  <img src=\"img/stream-bc-collide.jpg\" alt=\"LBM Loop\" width=\"500\" height=\"340\">\n",
    "  <figcaption><strong>Figure 4: LBM Loop</strong></figcaption>\n",
    "</figure>\n",
    "\n",
    "From a computational pattern perspective, **streaming** is a stencil operator: each cell reads information from its neighbors, as shown in the above picture. The remaining operators are **map** operators; they read and write only data associated with a single cell.  \n",
    "\n",
    "For completeness, there are various techniques to implement LBM; we will be using a **two-population** method with a **pull** scheme.  \n",
    "\n",
    "### Streaming\n",
    "\n",
    "In the streaming operator, each cell iterates over its neighbors according to the lattice directions (`pull_ngh[d] = index[d] - c_dev[d, q]`) and reads the corresponding population, as illustrated above. The operator also needs to check that the computed neighbor location does not fall outside the domain.  \n"
   ]
  },
  {
   "cell_type": "code",
   "execution_count": 8,
   "id": "f6f4851f-428e-43fd-b4c4-6230d9cc0420",
   "metadata": {},
   "outputs": [],
   "source": [
    "@wp.kernel\n",
    "def stream(\n",
    "        f_in: wp.array3d(dtype=wp.float64),\n",
    "        f_out: wp.array3d(dtype=wp.float64),\n",
    "):\n",
    "    # Get the global index\n",
    "    ix, iy = wp.tid()\n",
    "    index = wp.vec2i(ix, iy)\n",
    "    f_post = wp.vec(length=Q, dtype=wp.float64)\n",
    "\n",
    "    for q in range(params.Q):\n",
    "        pull_ngh = wp.vec2i(0, 0)\n",
    "        outside_domain = False\n",
    "\n",
    "        for d in range(D):\n",
    "            pull_ngh[d] = index[d] - c_dev[d, q]\n",
    "\n",
    "            if pull_ngh[d] < 0 or pull_ngh[d] >= dim_dev[d]:\n",
    "                outside_domain = True\n",
    "        if not outside_domain:\n",
    "            f_post[q] = read_field(field=f_in, card=q, xi=pull_ngh[0], yi=pull_ngh[1])\n",
    "\n",
    "    # Set the output\n",
    "    for q in range(params.Q):\n",
    "        write_field(field=f_out, card=q, xi=index[0], yi=index[1], value=f_post[q])"
   ]
  },
  {
   "cell_type": "markdown",
   "id": "a9692a0e-6abb-4f5f-a9af-6073ec99f6b8",
   "metadata": {},
   "source": [
    "### Managing Boundary Conditions\n",
    "\n",
    "We will use simple boundary conditions and rely on capabilities provided by the local `lbm` Python library. For each cell that is not flagged as `bulk`, we overwrite the population values using a `compute_boundary` Warp function, which we retrieve from an `lbm.Function` object. Warp functions can be passed around to compose kernels like any other Python object."
   ]
  },
  {
   "cell_type": "code",
   "execution_count": 9,
   "id": "c88cbb2b-5d29-4bd5-a032-697e150da020",
   "metadata": {},
   "outputs": [],
   "source": [
    "compute_boundaries = functions.get_apply_boundary_conditions()"
   ]
  },
  {
   "cell_type": "code",
   "execution_count": 10,
   "id": "5a7c8ccf-4eb5-4a66-b0bc-fbcb795cd98b",
   "metadata": {},
   "outputs": [],
   "source": [
    "@wp.kernel\n",
    "def apply_boundary_conditions(\n",
    "        bc_type_field: wp.array2d(dtype=wp.uint8),\n",
    "        f_out: wp.array3d(dtype=wp.float64),\n",
    "):\n",
    "    # Get the global index\n",
    "    ix, iy = wp.tid()\n",
    "\n",
    "    bc_type = bc_type_field[ix, iy]\n",
    "    if bc_type == bc_bulk:\n",
    "        return\n",
    "\n",
    "    f = compute_boundaries(bc_type)\n",
    "\n",
    "    for q in range(params.Q):\n",
    "        write_field(field=f_out, card=q, xi=ix, yi=iy, value=f[q])"
   ]
  },
  {
   "cell_type": "markdown",
   "id": "85070598-2728-492c-911e-5149e08f8e07",
   "metadata": {},
   "source": [
    "### Collision\n",
    "\n",
    "This is a *map* operator, and it operates in place on one LBM population field (`f`).  \n",
    "The `f_post_stream` object is a vector of nine elements representing data read from memory; this vector should be considered a C array allocated on the stack.\n"
   ]
  },
  {
   "cell_type": "code",
   "execution_count": 11,
   "id": "ae3adde3-3597-43ad-a895-159759f3c622",
   "metadata": {},
   "outputs": [],
   "source": [
    "compute_macroscopic = functions.get_macroscopic()\n",
    "compute_equilibrium = functions.get_equilibrium()\n",
    "compute_collision = functions.get_kbc()"
   ]
  },
  {
   "cell_type": "code",
   "execution_count": 12,
   "id": "b9e58ad5-b5bd-4dc5-9431-802ebfad0599",
   "metadata": {},
   "outputs": [],
   "source": [
    "@wp.kernel\n",
    "def collide(\n",
    "        f: wp.array3d(dtype=wp.float64),\n",
    "        omega: wp.float64,\n",
    "):\n",
    "    # Get the global index\n",
    "    ix, iy = wp.tid()\n",
    "    # Get the equilibrium\n",
    "\n",
    "    f_post_stream = wp.vec(length=Q, dtype=wp.float64)\n",
    "    for q in range(params.Q):\n",
    "        f_post_stream[q] = read_field(field=f, card=q, xi=ix, yi=iy)\n",
    "\n",
    "    mcrpc = compute_macroscopic(f_post_stream)\n",
    "\n",
    "    # Compute the equilibrium\n",
    "    f_eq = compute_equilibrium(mcrpc)\n",
    "\n",
    "    f_post_collision = compute_collision(f_post_stream, f_eq, mcrpc, omega)\n",
    "\n",
    "    # Set the output\n",
    "    for q in range(params.Q):\n",
    "        write_field(field=f, card=q, xi=ix, yi=iy, value=f_post_collision[q])"
   ]
  },
  {
   "cell_type": "markdown",
   "id": "15c789be-fa63-4475-9fdc-4dbb494a79d3",
   "metadata": {},
   "source": [
    "## Problem Setup\n",
    "\n",
    "We rely again on the `lbm` library to set up a typical CFD problem called **lid-driven cavity flow (LDC)**. The setup is simple: we consider a box filled with fluid, where on the lid we impose a tangential velocity. During the simulation, the lid’s velocity is propagated to the fluid.  \n",
    "The following GIF shows the evolution of an LDC in a 3D domain:\n",
    "\n",
    "<figure>\n",
    "  <img src=\"img/ldc-3d.gif\" alt=\"3D lid-driven cavity flow simulation\" width=\"500\" height=\"340\">\n",
    "  <figcaption><strong>Figure 5: A 3D LDC problem run in the XLB library</strong></figcaption>\n",
    "</figure>\n"
   ]
  },
  {
   "cell_type": "code",
   "execution_count": 13,
   "id": "b8e27b55-e03c-4948-a07a-2ca7d25cf977",
   "metadata": {},
   "outputs": [
    {
     "name": "stdout",
     "output_type": "stream",
     "text": [
      "Module lbm.kernels 218bc5d load on device 'cuda:0' took 129.18 ms  (compiled)\n",
      "Module lbm.kernels fd66b4b load on device 'cuda:0' took 281.31 ms  (compiled)\n"
     ]
    },
    {
     "data": {
      "text/plain": [
       "<Figure size 640x480 with 0 Axes>"
      ]
     },
     "metadata": {},
     "output_type": "display_data"
    }
   ],
   "source": [
    "lbm.setup_LDC_problem(params=params, mem=mem)\n",
    "lbm.export_setup(prefix=exercise_name, params=params, mem=mem)"
   ]
  },
  {
   "cell_type": "markdown",
   "id": "7e1b8011-606c-4ca6-8ca1-b206efe064b7",
   "metadata": {},
   "source": [
    "The following lines set up a 2D LDC problem and export the distribution of boundary types to a PNG file.  \n",
    "Cells with a **wall** boundary condition are shown in green, the **lid** is shown in white, and **bulk** cells (fluid internal cells) are shown in black.\n",
    "\n",
    "<figure>\n",
    "  <img src=\"img/reference-00-lbm-intro-aos_bc_0000.png\" alt=\"2D LDC boundary setup\" width=\"250\" height=\"340\">\n",
    "  <figcaption><strong>Figure 6: LDC setup</strong></figcaption>\n",
    "</figure>\n"
   ]
  },
  {
   "cell_type": "markdown",
   "id": "f9460ac2-abaa-4b38-b10a-8d385c2787a3",
   "metadata": {},
   "source": [
    "## LMB iteration\n",
    "\n",
    "As shown in Figure 4, the LBM iteration is implemented by executing the `stream`, `apply_boundary_conditions`, and `collision` kernels. At the end of each iteration, the input and output 3D arrays are swapped for the next iteration."
   ]
  },
  {
   "cell_type": "code",
   "execution_count": 14,
   "id": "2723a8bf-84bf-4d1e-92e9-61d9980c208e",
   "metadata": {
    "editable": true,
    "slideshow": {
     "slide_type": ""
    },
    "tags": []
   },
   "outputs": [],
   "source": [
    "def iterate():\n",
    "    wp.launch(stream,\n",
    "              dim=params.launch_dim,\n",
    "              inputs=[mem.f_0, mem.f_1],\n",
    "              device=\"cuda\")\n",
    "\n",
    "    wp.launch(apply_boundary_conditions,\n",
    "              dim=params.launch_dim,\n",
    "              inputs=[mem.bc_type, mem.f_1],\n",
    "              device=\"cuda\")\n",
    "\n",
    "    wp.launch(collide,\n",
    "              dim=params.launch_dim,\n",
    "              inputs=[mem.f_1, params.omega],\n",
    "              device=\"cuda\")\n",
    "    # Swap the fields\n",
    "    mem.f_0, mem.f_1 = mem.f_1, mem.f_0"
   ]
  },
  {
   "cell_type": "markdown",
   "id": "aee161ca-944e-46e5-9594-15fb9f777379",
   "metadata": {},
   "source": [
    "## LBM Main Loop\n",
    "\n",
    "To focus completely on runtime performance without including compilation overhead, we first execute a warmup iteration and then start timing the main LBM loop. At the end, we print performance statistics and export the final velocity magnitude. Figure 6 shows the reference velocity for the LDC with the following parameters:\n",
    "\n",
    "\n",
    "```\n",
    "params = lbm.Parameters(num_steps=5000,\n",
    "                        nx=1024 ,\n",
    "                        ny=1024 ,\n",
    "                        prescribed_vel=0.5,\n",
    "                        Re=10000.0)\n",
    "```\n",
    "\n",
    "<figure>\n",
    "  <img src=\"img/reference_00-lbm-intro-aos_u_5000.png\" alt=\"LDC setup\" width=\"250\" height=\"340\">\n",
    "  <figcaption><strong>Figure 6: LDC velocity magnitude</strong></figcaption>\n",
    "</figure>"
   ]
  },
  {
   "cell_type": "code",
   "execution_count": 15,
   "id": "37647134-b50b-422a-be1b-d34a7a668f88",
   "metadata": {
    "editable": true,
    "slideshow": {
     "slide_type": ""
    },
    "tags": []
   },
   "outputs": [
    {
     "name": "stdout",
     "output_type": "stream",
     "text": [
      "Module __main__ d0e9453 load on device 'cuda:0' took 936.04 ms  (compiled)\n",
      "Module lbm.kernels 70eb1dc load on device 'cuda:0' took 416.07 ms  (compiled)\n"
     ]
    },
    {
     "data": {
      "text/plain": [
       "<Figure size 640x480 with 0 Axes>"
      ]
     },
     "metadata": {},
     "output_type": "display_data"
    }
   ],
   "source": [
    "# Warm up iteration\n",
    "iterate()\n",
    "\n",
    "# Wait for the warm-up to finish.\n",
    "wp.synchronize()\n",
    "# Start timer\n",
    "start = time.time()\n",
    "for it in range(params.num_steps):\n",
    "    iterate()\n",
    "\n",
    "wp.synchronize()\n",
    "stop = time.time()\n",
    "\n",
    "# Saving the velocity magnitude.\n",
    "lbm.export_final(prefix=exercise_name, params=params, mem=mem, f=mem.f_0)\n",
    "\n",
    "\n"
   ]
  },
  {
   "cell_type": "markdown",
   "id": "8ce2e7b7-7bf4-4b45-85a2-d1f4d5304977",
   "metadata": {
    "editable": true,
    "slideshow": {
     "slide_type": ""
    },
    "tags": []
   },
   "source": [
    "## Performance\n",
    "\n",
    "For LBM performance, we are interested in the time spent in the main loop, but even more importantly, its throughput. Usually, we look at the number of floating-point operations per second; however, we will focus on a simpler metric called MLUPS: Million Lattice Updates Per Second. This is the reference metric in the LBM community. In the next couple of LBM exercises, we'll consider MLUPS as the reference metric to compare different implementations."
   ]
  },
  {
   "cell_type": "code",
   "execution_count": 16,
   "id": "7718de91-22e3-45ab-9b80-6f1616ebd1e3",
   "metadata": {},
   "outputs": [
    {
     "name": "stdout",
     "output_type": "stream",
     "text": [
      "--------------------------------------------\n",
      "Exercise: 00-lbm-singleGPU-aos\n",
      "Main loop time: 17.891 seconds\n",
      "MLUPS:          293.1\n",
      "--------------------------------------------\n"
     ]
    }
   ],
   "source": [
    "# Printing some statistics.\n",
    "elapsed_time = stop - start\n",
    "mlups = params.compute_mlups(elapsed_time)\n",
    "print(f\"--------------------------------------------\")\n",
    "print(f\"Exercise: {exercise_name}\")\n",
    "print(f\"Main loop time: {elapsed_time:5.3f} seconds\")\n",
    "print(f\"MLUPS:          {mlups:5.1f}\")\n",
    "print(f\"--------------------------------------------\")"
   ]
  },
  {
   "cell_type": "markdown",
   "id": "1a87ef84-715a-4db9-a210-618ff0d66ce0",
   "metadata": {},
   "source": [
    "## Profiling\n",
    "\n",
    "More information on the behavior of our application running on a GPU can be extracted by simply using a profiler. NVIDIA provides two main tools that are useful for our case: [Nsight Systems](https://developer.nvidia.com/nsight-systems) and [Nsight Compute](https://developer.nvidia.com/nsight-compute). The first provides system-wide information about the execution, while the second focuses on single-kernel, in-depth runtime analysis. We are going to use only Nsight Systems.  \n",
    "\n",
    "We can run Nsight Systems directly from this notebook by enabling it as shown in the following figures:\n",
    "\n",
    "<div style=\"display: flex; align-items: flex-start;\">\n",
    "\n",
    "  <figure style=\"margin-right: 5%; width: 30%; text-align: center;\">\n",
    "    <img src=\"img/activate-nsys-01.png\" style=\"width: 100%;\" />\n",
    "    <figcaption><strong>Figure 8: Play with Nsight Systems (step 1)</strong></figcaption>\n",
    "  </figure>\n",
    "\n",
    "  <figure style=\"width: 30%; text-align: center;\">\n",
    "    <img src=\"img/activate-nsys-02.png\" style=\"width: 100%;\" />\n",
    "    <figcaption><strong>Figure 9: Play with Nsight Systems (step 2)</strong></figcaption>\n",
    "  </figure>\n",
    "\n",
    "</div>\n",
    "\n",
    "**Note:** The solver behavior will not change drastically from one iteration to the next. As the profiler will add some overhead to execution and capture a lot of information, we may want to reduce the number of solver iterations before running the profiler.  \n",
    "\n",
    "Playing a notebook cell with the green play icon will automatically run the cell within the profiler and print performance statistics. The profiling session will also create a local file that you can download and inspect locally with the Nsight Systems UI:\n",
    "\n",
    "<div style=\"display: flex; align-items: flex-start;\">\n",
    "\n",
    "  <figure style=\"margin-right: 5%; width: 20%; text-align: center;\">\n",
    "    <img src=\"img/activate-nsys-03.png\" style=\"width: 100%;\" />\n",
    "    <figcaption><strong>Figure 10: Nsight Systems report folder</strong></figcaption>\n",
    "  </figure>\n",
    "\n",
    "  <figure style=\"width: 20%; text-align: center;\">\n",
    "    <img src=\"img/activate-nsys-04.png\" style=\"width: 100%;\" />\n",
    "    <figcaption><strong>Figure 11: Download</strong></figcaption>\n",
    "  </figure>\n",
    "\n",
    "</div>\n",
    "\n",
    "Once downloaded and loaded into the UI, you can zoom into the area of interest and inspect the application timeline:\n",
    "\n",
    "<figure>\n",
    "  <img src=\"img/aos-nsys.png\" alt=\"Profiler timeline\" width=\"100%\">\n",
    "  <figcaption><strong>Figure 12: Profiler timeline</strong></figcaption>\n",
    "</figure>\n"
   ]
  },
  {
   "cell_type": "markdown",
   "id": "47204ed7-ed09-42e3-bc1a-933dd665bd4c",
   "metadata": {},
   "source": [
    "<figure>\n",
    "  <img src=\"img/panda.png\" alt=\"Exercise\" width=\"7%\" style=\"float: left; margin-right: 10px; margin-bottom: 10px;\">\n",
    "  <figcaption><strong>Exercise</strong>: Try running the profiler and checking out the timeline.  \n",
    "  </figcaption>\n",
    "</figure>\n"
   ]
  },
  {
   "cell_type": "code",
   "execution_count": null,
   "id": "95674554-d7f3-4c0b-b1ef-3eb093dcb3ae",
   "metadata": {},
   "outputs": [],
   "source": []
  }
 ],
 "metadata": {
  "kernelspec": {
   "display_name": "Python 3 (ipykernel)",
   "language": "python",
   "name": "python3"
  },
  "language_info": {
   "codemirror_mode": {
    "name": "ipython",
    "version": 3
   },
   "file_extension": ".py",
   "mimetype": "text/x-python",
   "name": "python",
   "nbconvert_exporter": "python",
   "pygments_lexer": "ipython3",
   "version": "3.10.12"
  }
 },
 "nbformat": 4,
 "nbformat_minor": 5
}
