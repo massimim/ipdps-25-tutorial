{
 "cells": [
  {
   "cell_type": "markdown",
   "id": "ad957b71-2191-4a00-9226-3bf7be96f261",
   "metadata": {},
   "source": [
    "# LBM Multi-GPU Step 0\n",
    "\n",
    "<figure>\n",
    "  <img src=\"img/partitions.png\" alt=\"Domain partitioning in LBM\" width=\"50%\">\n",
    "  <figcaption><strong>Figure 3: Domain Partitioning</strong></figcaption>\n",
    "</figure>\n"
   ]
  },
  {
   "cell_type": "code",
   "execution_count": 1,
   "id": "1f2079d5-0c3f-4e84-9971-6983d165d1fe",
   "metadata": {},
   "outputs": [],
   "source": [
    "import time\n",
    "import lbm_mgpu\n",
    "import warp as wp\n",
    "\n",
    "exercise_name = \"01-lbm-mgpu-occ\"\n"
   ]
  },
  {
   "cell_type": "code",
   "execution_count": 2,
   "id": "5af69e82-7952-4593-8047-c6ad76ed2ad4",
   "metadata": {},
   "outputs": [
    {
     "name": "stdout",
     "output_type": "stream",
     "text": [
      "Warp 1.7.1 initialized:\n",
      "   CUDA Toolkit 12.8, Driver 12.8\n",
      "   Devices:\n",
      "     \"cpu\"      : \"x86_64\"\n",
      "     \"cuda:0\"   : \"NVIDIA RTX A4000\" (16 GiB, sm_86, mempool enabled)\n",
      "   Kernel cache:\n",
      "     /root/.cache/warp/1.7.1\n"
     ]
    }
   ],
   "source": [
    "wp.clear_kernel_cache()\n",
    "\n",
    "gpus = wp.get_cuda_devices()\n",
    "\n",
    "# Only for testing, if we have only one GPU, we can oversubscribe it\n",
    "if len(gpus) == 1:\n",
    "    gpus = gpus * 4\n",
    "\n",
    "params = lbm_mgpu.Parameters(num_steps=5000,\n",
    "                        gpus=gpus ,\n",
    "                        nx=1024 ,\n",
    "                        ny=1024 ,\n",
    "                        prescribed_vel=0.5,\n",
    "                        Re=10000.0)"
   ]
  },
  {
   "cell_type": "markdown",
   "id": "381fcd11-0942-4897-b0d3-0a99493f7112",
   "metadata": {},
   "source": [
    "\n",
    "<figure>\n",
    "  <img src=\"img/timeline.png\" alt=\"Domain partitioning in LBM\" width=\"50%\">\n",
    "  <figcaption><strong>Figure 3: Domain Partitioning</strong></figcaption>\n",
    "</figure>"
   ]
  },
  {
   "cell_type": "code",
   "execution_count": 3,
   "id": "d5ac8a4a-5632-4272-b4bc-5787fc439a26",
   "metadata": {},
   "outputs": [],
   "source": [
    "@wp.struct\n",
    "class Partition:\n",
    "    id: wp.int32\n",
    "    num_partitions: wp.int32\n",
    "    slices_per_partition: wp.int32\n",
    "    origin: wp.vec(length=2, dtype=wp.int32)\n",
    "    shape: wp.vec(length=2, dtype=wp.int32)\n",
    "    shape_with_halo: wp.vec(length=2, dtype=wp.int32)\n",
    "    shape_domain: wp.vec(length=2, dtype=wp.int32)\n",
    "    shape_red: wp.vec(length=2, dtype=wp.int32)\n",
    "    shape_green: wp.vec(length=2, dtype=wp.int32)"
   ]
  },
  {
   "cell_type": "markdown",
   "id": "30ca6e45-a2ab-4d30-a833-437e6d269f99",
   "metadata": {},
   "source": [
    "<figure>\n",
    "  <img src=\"img/green-red-dim.png\" alt=\"Domain partitioning in LBM\" width=\"50%\">\n",
    "  <figcaption><strong>Figure 3: Domain Partitioning</strong></figcaption>\n",
    "</figure>\n",
    "\n",
    "<figure>\n",
    "  <img src=\"img/panda.png\" alt=\"Exercise\" width=\"7%\" style=\"float: left; margin-right: 10px; margin-bottom: 10px;\">\n",
    "  <figcaption><strong>Exercise</strong>: Complete the missing parameters in the initialization of the partitions.</figcaption>\n",
    "</figure>\n"
   ]
  },
  {
   "cell_type": "code",
   "execution_count": 4,
   "id": "dc90023f-08fe-4383-9937-add9398664d0",
   "metadata": {},
   "outputs": [],
   "source": [
    "partitions = []\n",
    "\n",
    "for i in range(params.num_gpsu):\n",
    "    partition = lbm_mgpu.Partition()\n",
    "    partition.id = i\n",
    "    partition.num_partitions = params.num_gpsu\n",
    "    partition.slices_per_partition = params.dim[0] // params.num_gpsu\n",
    "    partition.origin[0] = i * partition.slices_per_partition\n",
    "    partition.origin[1] = 0\n",
    "\n",
    "    partition.shape[0] = partition.slices_per_partition\n",
    "    partition.shape[1] = params.dim[1]\n",
    "    partition.shape_domain[0] = params.dim[0]\n",
    "    partition.shape_domain[1] = params.dim[1]\n",
    "\n",
    "    partition.shape_with_halo[0] = partition.shape[0] + 2\n",
    "    partition.shape_with_halo[1] = partition.shape[1]  # Add halo in y direction\n",
    "\n",
    "    partition.shape_green[0] = MISSING  \n",
    "    partition.shape_green[1] = MISSING \n",
    "\n",
    "    partition.shape_red[0] = MISSING\n",
    "    partition.shape_red[1] = MISSING\n",
    "\n",
    "    partitions.append(partition)"
   ]
  },
  {
   "cell_type": "code",
   "execution_count": 5,
   "id": "a036009e-c0b8-4d14-a4e8-245a84c2af6f",
   "metadata": {},
   "outputs": [
    {
     "name": "stdout",
     "output_type": "stream",
     "text": [
      "peer access cuda:0->cuda:0\n",
      "peer access cuda:0->cuda:0\n",
      "peer access cuda:0->cuda:0\n",
      "peer access cuda:0->cuda:0\n",
      "peer access cuda:0->cuda:0\n",
      "peer access cuda:0->cuda:0\n",
      "peer access cuda:0->cuda:0\n",
      "peer access cuda:0->cuda:0\n",
      "peer access cuda:0->cuda:0\n",
      "peer access cuda:0->cuda:0\n",
      "peer access cuda:0->cuda:0\n",
      "peer access cuda:0->cuda:0\n",
      "peer access cuda:0->cuda:0\n",
      "peer access cuda:0->cuda:0\n",
      "peer access cuda:0->cuda:0\n",
      "peer access cuda:0->cuda:0\n"
     ]
    }
   ],
   "source": [
    "for src_gpu in params.gpus:\n",
    "    for dst_gpu in params.gpus:\n",
    "        if wp.is_peer_access_supported(src_gpu, dst_gpu):\n",
    "            wp.set_peer_access_enabled(src_gpu, dst_gpu, True)\n",
    "        if wp.is_peer_access_enabled(src_gpu, dst_gpu):\n",
    "            print(f\"peer access {src_gpu}->{dst_gpu}\")"
   ]
  },
  {
   "cell_type": "markdown",
   "id": "39c50fce-ec38-4433-bb47-4cd09fcf78b4",
   "metadata": {},
   "source": [
    "<figure>\n",
    "  <img src=\"img/panda.png\" alt=\"Exercise\" width=\"7%\" style=\"float: left; margin-right: 10px; margin-bottom: 10px;\">\n",
    "  <figcaption><strong>Exercise</strong>: What happens if we don’t enable peer access?\n",
    "  </figcaption>\n",
    "</figure>\n"
   ]
  },
  {
   "cell_type": "code",
   "execution_count": 6,
   "id": "7a6da978-1adb-403a-8943-fa6b7db48fbb",
   "metadata": {},
   "outputs": [],
   "source": [
    "def get_fields(partitions):\n",
    "    fields = []\n",
    "    for i, partition in enumerate(partitions):\n",
    "        nx = partition.shape_with_halo[0]\n",
    "        ny = partition.shape_with_halo[1]\n",
    "        f = wp.zeros((params.Q, nx, ny), dtype=wp.float64, device=params.gpus[i])\n",
    "        fields.append(f)\n",
    "    return fields\n",
    "\n",
    "f_0 = get_fields(partitions)\n",
    "f_1 = get_fields(partitions)\n",
    "\n",
    "@wp.func\n",
    "def read_field(field: wp.array3d(dtype=wp.float64), card: wp.int32, xi: wp.int32, yi: wp.int32):\n",
    "    return field[card, xi + 1, yi]\n",
    "\n",
    "@wp.func\n",
    "def write_field(field: wp.array3d(dtype=wp.float64), card: wp.int32, xi: wp.int32, yi: wp.int32,\n",
    "                value: wp.float64):\n",
    "    field[card, xi + 1, yi] = value"
   ]
  },
  {
   "cell_type": "code",
   "execution_count": 7,
   "id": "9508f9f1-4045-4ea3-a7dd-85f558d9d949",
   "metadata": {},
   "outputs": [],
   "source": [
    "# Initialize the memory\n",
    "mem = lbm_mgpu.Memory(params,\n",
    "                      partitions,\n",
    "                      f_0=f_0,\n",
    "                      f_1=f_1,\n",
    "                      read=read_field,\n",
    "                      write=write_field)\n",
    "\n",
    "# Initialize the kernels\n",
    "functions = lbm_mgpu.Functions(params)\n",
    "kernels = lbm_mgpu.Kernels(params, mem)\n",
    "\n",
    "Q = params.Q\n",
    "D = params.D\n",
    "bc_bulk = params.bc_bulk\n",
    "c_dev = params.c_dev\n",
    "\n",
    "compute_boundaries = functions.get_apply_boundary_conditions()\n",
    "\n",
    "compute_macroscopic = functions.get_macroscopic()\n",
    "compute_equilibrium = functions.get_equilibrium()\n",
    "compute_collision = functions.get_kbc()"
   ]
  },
  {
   "cell_type": "markdown",
   "id": "ac69318e-e7cc-4545-a1b7-6acf556d39de",
   "metadata": {},
   "source": [
    "\n",
    "<figure>\n",
    "  <img src=\"img/events.png\" alt=\"Domain partitioning in LBM\" width=\"50%\">\n",
    "  <figcaption><strong>Figure 3: Domain Partitioning</strong></figcaption>\n",
    "</figure>"
   ]
  },
  {
   "cell_type": "code",
   "execution_count": 8,
   "id": "59f7805f-b6e6-4032-9ac0-ff99bd274708",
   "metadata": {},
   "outputs": [],
   "source": [
    "streams_compute_red = []\n",
    "streams_compute_green = []\n",
    "\n",
    "streams_halo_pull_left = []\n",
    "streams_halo_pull_right = []\n",
    "\n",
    "events_red_done = []\n",
    "events_green_done = []\n",
    "\n",
    "events_halo_left = []\n",
    "events_halo_right = []\n",
    "\n",
    "for i in range(params.num_gpsu):\n",
    "    streams_compute_red.append(wp.Stream(params.gpus[i]))\n",
    "    streams_compute_green.append(wp.Stream(params.gpus[i]))\n",
    "\n",
    "    streams_halo_pull_left.append(wp.Stream(params.gpus[i]))\n",
    "    streams_halo_pull_right.append(wp.Stream(params.gpus[i]))\n",
    "\n",
    "    events_red_done.append(wp.Event(params.gpus[i]))\n",
    "    events_green_done.append(wp.Event(params.gpus[i]))\n",
    "\n",
    "    events_halo_left.append(wp.Event(params.gpus[i]))\n",
    "    events_halo_right.append(wp.Event(params.gpus[i]))\n"
   ]
  },
  {
   "cell_type": "markdown",
   "id": "ad90e26d-4cd2-4a00-93c7-64a084ee13ea",
   "metadata": {},
   "source": [
    "<figure>\n",
    "  <img src=\"img/panda.png\" alt=\"Exercise\" width=\"7%\" style=\"float: left; margin-right: 10px; margin-bottom: 10px;\">\n",
    "  <figcaption><strong>Exercise</strong>: Complete the missing initializations.\n",
    "  </figcaption>\n",
    "</figure>"
   ]
  },
  {
   "cell_type": "code",
   "execution_count": 9,
   "id": "8d73dd73-339d-42a9-9193-955199103489",
   "metadata": {},
   "outputs": [],
   "source": [
    "\n",
    "@wp.kernel\n",
    "def green(\n",
    "        partition: lbm_mgpu.Partition,\n",
    "        omega: wp.float64,\n",
    "        f_in: wp.array3d(dtype=wp.float64),\n",
    "        bc_type_field: wp.array2d(dtype=wp.uint8),\n",
    "        f_out: wp.array3d(dtype=wp.float64),\n",
    "):\n",
    "    # Get the global index\n",
    "    it, jt = wp.tid()\n",
    "    MISSING\n",
    "    partition_index = wp.vec2i(it, jt)\n",
    "    domain_index = partition_index + partition.origin\n",
    "\n",
    "    f_post = wp.vec(length=Q, dtype=wp.float64)\n",
    "    bc_type = bc_type_field[partition_index[0], partition_index[1]]\n",
    "\n",
    "    for q in range(params.Q):\n",
    "        partition_pull_ngh = wp.vec2i(0, 0)\n",
    "        domain_pull_ngh = wp.vec2i(0, 0)\n",
    "\n",
    "        outside_domain = False\n",
    "\n",
    "        for d in range(D):\n",
    "            partition_pull_ngh[d] = partition_index[d] - c_dev[d, q]\n",
    "            domain_pull_ngh[d] = domain_index[d] - c_dev[d, q]\n",
    "            if domain_pull_ngh[d] < 0 or domain_pull_ngh[d] >= partition.shape_domain[d]:\n",
    "                outside_domain = True\n",
    "        if not outside_domain:\n",
    "            f_post[q] = read_field(field=f_in, card=q, xi=partition_pull_ngh[0], yi=partition_pull_ngh[1])\n",
    "\n",
    "    if bc_type != bc_bulk:\n",
    "        f_post = compute_boundaries(bc_type)\n",
    "\n",
    "    mcrpc = compute_macroscopic(f_post)\n",
    "\n",
    "    # Compute the equilibrium\n",
    "    f_eq = compute_equilibrium(mcrpc)\n",
    "\n",
    "    f_post = compute_collision(f_post, f_eq, mcrpc, omega)\n",
    "\n",
    "    # Set the output\n",
    "    for q in range(params.Q):\n",
    "        write_field(field=f_out, card=q, xi=partition_index[0], yi=partition_index[1], value=f_post[q])\n"
   ]
  },
  {
   "cell_type": "markdown",
   "id": "cd8aea6a-7182-4c30-ae09-fabedfbdd09c",
   "metadata": {},
   "source": [
    "<figure>\n",
    "  <img src=\"img/panda.png\" alt=\"Exercise\" width=\"7%\" style=\"float: left; margin-right: 10px; margin-bottom: 10px;\">\n",
    "  <figcaption><strong>Exercise</strong>: Complete the missing initializations.\n",
    "  </figcaption>\n",
    "</figure>"
   ]
  },
  {
   "cell_type": "code",
   "execution_count": 10,
   "id": "02508e91-4dae-4111-a8e9-20503309b610",
   "metadata": {},
   "outputs": [],
   "source": [
    "@wp.kernel\n",
    "def red(\n",
    "        partition: lbm_mgpu.Partition,\n",
    "        omega: wp.float64,\n",
    "        f_in: wp.array3d(dtype=wp.float64),\n",
    "        bc_type_field: wp.array2d(dtype=wp.uint8),\n",
    "        f_out: wp.array3d(dtype=wp.float64),\n",
    "):\n",
    "    # Get the global index\n",
    "    it, jt = wp.tid()\n",
    "    if MISSING:\n",
    "        MISSING\n",
    "    partition_index = wp.vec2i(it, jt)\n",
    "    domain_index = partition_index + partition.origin\n",
    "\n",
    "    f_post = wp.vec(length=Q, dtype=wp.float64)\n",
    "    bc_type = bc_type_field[partition_index[0], partition_index[1]]\n",
    "\n",
    "    for q in range(params.Q):\n",
    "        partition_pull_ngh = wp.vec2i(0, 0)\n",
    "        domain_pull_ngh = wp.vec2i(0, 0)\n",
    "\n",
    "        outside_domain = False\n",
    "\n",
    "        for d in range(D):\n",
    "            partition_pull_ngh[d] = partition_index[d] - c_dev[d, q]\n",
    "            domain_pull_ngh[d] = domain_index[d] - c_dev[d, q]\n",
    "            if domain_pull_ngh[d] < 0 or domain_pull_ngh[d] >= partition.shape_domain[d]:\n",
    "                outside_domain = True\n",
    "        if not outside_domain:\n",
    "            f_post[q] = read_field(field=f_in, card=q, xi=partition_pull_ngh[0], yi=partition_pull_ngh[1])\n",
    "\n",
    "    if bc_type != bc_bulk:\n",
    "        f_post = compute_boundaries(bc_type)\n",
    "\n",
    "    mcrpc = compute_macroscopic(f_post)\n",
    "\n",
    "    # Compute the equilibrium\n",
    "    f_eq = compute_equilibrium(mcrpc)\n",
    "\n",
    "    f_post = compute_collision(f_post, f_eq, mcrpc, omega)\n",
    "\n",
    "    # Set the output\n",
    "    for q in range(params.Q):\n",
    "        write_field(field=f_out, card=q, xi=partition_index[0], yi=partition_index[1], value=f_post[q])"
   ]
  },
  {
   "cell_type": "code",
   "execution_count": 11,
   "id": "54359db8-282f-46a7-8bea-e98d02565679",
   "metadata": {},
   "outputs": [
    {
     "name": "stdout",
     "output_type": "stream",
     "text": [
      "Module lbm_mgpu.kernels 0620e2b load on device 'cuda:0' took 134.27 ms  (compiled)\n",
      "Module lbm_mgpu.kernels 9701ec0 load on device 'cuda:0' took 283.91 ms  (compiled)\n"
     ]
    },
    {
     "data": {
      "text/plain": [
       "<Figure size 640x480 with 0 Axes>"
      ]
     },
     "metadata": {},
     "output_type": "display_data"
    }
   ],
   "source": [
    "lbm_mgpu.setup_LDC_problem(params=params, partitions=partitions, mem=mem)\n",
    "lbm_mgpu.export_setup(prefix=exercise_name, params=params, partitions=partitions, mem=mem)"
   ]
  },
  {
   "cell_type": "markdown",
   "id": "3746335c-6cee-43e0-afff-57e01da5d482",
   "metadata": {},
   "source": [
    "<figure>\n",
    "  <img src=\"img/panda.png\" alt=\"Exercise\" width=\"7%\" style=\"float: left; margin-right: 10px; margin-bottom: 10px;\">\n",
    "  <figcaption><strong>Exercise</strong>: Add record and wait event operations.\n",
    "  </figcaption>\n",
    "</figure>"
   ]
  },
  {
   "cell_type": "code",
   "execution_count": 1,
   "id": "1be685a5-113f-4d35-90ab-6a1bd20a750c",
   "metadata": {},
   "outputs": [],
   "source": [
    "# #mem.save_magnituge_vtk(0)\n",
    "def iterate():\n",
    "    for i, p in enumerate(partitions):\n",
    "        for q in range(params.Q):\n",
    "            if i != params.num_gpsu - 1:\n",
    "                src = mem.f_0[i + 1][q, 1]\n",
    "                dst = mem.f_0[i][q, partition.shape_with_halo[0] - 1]\n",
    "                wp.copy(src=src, dest=dst, count=p.shape[1], stream=streams_halo_pull_right[i])\n",
    "            if i != 0:\n",
    "                src = mem.f_0[i - 1][q, partition.shape_with_halo[0] - 2]\n",
    "                dst = mem.f_0[i][q, 0]\n",
    "                wp.copy(src=src, dest=dst, count=p.shape[1], stream=streams_halo_pull_left[i])\n",
    "\n",
    "        MISSING?\n",
    "        MISSING?\n",
    "\n",
    "\n",
    "    for i, p in enumerate(partitions):\n",
    "\n",
    "        MISSING?\n",
    "        MISSING?\n",
    "\n",
    "        wp.launch(red,\n",
    "                  dim=p.shape_red,\n",
    "                  inputs=[p, params.omega, mem.f_0[i], mem.bc_type[i], mem.f_1[i]],\n",
    "                  device=params.gpus[i],\n",
    "                  stream=streams_compute_red[i])\n",
    "\n",
    "    for i, p in enumerate(partitions):\n",
    "        wp.launch(green,\n",
    "                  dim=p.shape_green,\n",
    "                  inputs=[p, params.omega, mem.f_0[i], mem.bc_type[i], mem.f_1[i]],\n",
    "                  device=params.gpus[i],\n",
    "                  stream=streams_compute_green[i])\n",
    "\n",
    "    MISSING?\n",
    "\n",
    "    MISSING?\n",
    "    # Swap the fields\n",
    "    mem.f_0, mem.f_1 = mem.f_1, mem.f_0\n"
   ]
  },
  {
   "cell_type": "code",
   "execution_count": 13,
   "id": "df85d1b0-74d7-433e-9691-1348aacf7e1b",
   "metadata": {},
   "outputs": [
    {
     "name": "stdout",
     "output_type": "stream",
     "text": [
      "Module __main__ 269b5e9 load on device 'cuda:0' took 1043.47 ms  (compiled)\n",
      "Module lbm_mgpu.kernels 65155cc load on device 'cuda:0' took 371.97 ms  (compiled)\n",
      "Main loop time: 14.486 seconds\n",
      "MLUPS:          361.9\n"
     ]
    },
    {
     "data": {
      "text/plain": [
       "<Figure size 640x480 with 0 Axes>"
      ]
     },
     "metadata": {},
     "output_type": "display_data"
    }
   ],
   "source": [
    "# Warm up iteration\n",
    "iterate()\n",
    "\n",
    "# Wait for the warm-up to finish\n",
    "wp.synchronize()\n",
    "# Start timer\n",
    "start = time.time()\n",
    "for it in range(params.num_steps):\n",
    "    iterate()\n",
    "\n",
    "wp.synchronize()\n",
    "stop = time.time()\n",
    "\n",
    "lbm_mgpu.export_final(prefix=exercise_name, params=params, partitions=partitions, mem=mem, f=mem.f_0)\n",
    "\n",
    "# Statistics\n",
    "elapsed_time = stop - start\n",
    "mlups = params.compute_mlups(elapsed_time)\n",
    "print(f\"Main loop time: {elapsed_time:5.3f} seconds\")\n",
    "print(f\"MLUPS:          {mlups:5.1f}\")"
   ]
  },
  {
   "cell_type": "markdown",
   "id": "7dbacc12-430b-4202-bafe-9e083d7f4ab0",
   "metadata": {},
   "source": [
    "<figure>\n",
    "  <img src=\"img/panda.png\" alt=\"Exercise\" width=\"7%\" style=\"float: left; margin-right: 10px; margin-bottom: 10px;\">\n",
    "  <figcaption><strong>Exercise</strong>: Optimize the iteration after the first profiling session.\n",
    "  </figcaption>\n",
    "</figure>"
   ]
  }
 ],
 "metadata": {
  "kernelspec": {
   "display_name": "Python 3 (ipykernel)",
   "language": "python",
   "name": "python3"
  },
  "language_info": {
   "codemirror_mode": {
    "name": "ipython",
    "version": 3
   },
   "file_extension": ".py",
   "mimetype": "text/x-python",
   "name": "python",
   "nbconvert_exporter": "python",
   "pygments_lexer": "ipython3",
   "version": "3.10.12"
  }
 },
 "nbformat": 4,
 "nbformat_minor": 5
}
