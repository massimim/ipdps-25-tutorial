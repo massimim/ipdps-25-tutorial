{
 "cells": [
  {
   "cell_type": "markdown",
   "id": "3f42b27c-a6b9-4cd3-afb5-a90b9e010c87",
   "metadata": {
    "editable": true,
    "slideshow": {
     "slide_type": ""
    },
    "tags": []
   },
   "source": [
    "# LBM\n",
    "<figure>\n",
    "  <img src=\"https://raw.githubusercontent.com/autodesk/xlb/main/assets/wind_turbine.gif\" width=\"500\" height=\"340\" alt=\"Wind turbine from XLB library\">\n",
    "  <figcaption><strong>Figure 1: Wind turbine from XLB library</strong></figcaption>\n",
    "</figure>\n",
    "\n",
    "The Lattice Boltzmann method is a relatively new numerical technique in computational fluid dynamics (CFD). It offers computational features that make it extremely scalable on large-scale HPC systems. We will explore how some of the multi-GPU programming techniques presented in the previous exercises can be applied to an LBM-based solver.\n",
    "\n",
    "Next, we introduce some basic concepts of LBM for a 2D problem. For general information, see the Wikipedia page: [Lattice Boltzmann methods](https://en.wikipedia.org/wiki/Lattice_Boltzmann_methods).\n",
    "\n",
    "Part of the code in these exercises has been adapted from the XLB library—a scalable, differentiable, open-source Python library for LBM developed by Autodesk. To run and profile more complex problems, check out its GitHub page: [XLB](https://github.com/Autodesk/XLB).\n",
    "\n"
   ]
  },
  {
   "cell_type": "markdown",
   "id": "4b471dfa-c105-4bb1-9dcb-7e747b9ab325",
   "metadata": {},
   "source": [
    "## Lattice Boltzmann Method \n",
    "In the Lattice Boltzmann Method (LBM), the state of the fluid at each lattice node is represented by a set of particle distribution functions, $f_i(\\mathbf{x}, t)$. Each $f_i$ can be thought of as the probability (or, more precisely, the expected number) of finding a fluid “particle” at position $\\mathbf{x}$ and time $t$ that is moving along the discrete velocity direction $\\mathbf{e}_i$. Rather than tracking individual molecules, LBM evolves these distributions through collision and streaming steps. In the collision step, the distributions at each node relax toward a local equilibrium—the Maxwell–Boltzmann distribution projected onto the discrete velocity set—ensuring that mass and momentum are conserved. In the streaming step, these post‐collision distributions propagate to neighboring nodes, advecting the particle probabilities across the lattice.\n",
    "\n",
    "Because each distribution $f_i$ carries a fraction of the local density and momentum, macroscopic properties are retrieved simply by summing over all directions:\n",
    "\n",
    "$$\n",
    "\\rho(\\mathbf{x},t) \\;=\\; \\sum_{i} f_i(\\mathbf{x},t),\n",
    "\\qquad\n",
    "\\rho(\\mathbf{x},t)\\,\\mathbf{u}(\\mathbf{x},t) \\;=\\; \\sum_{i} f_i(\\mathbf{x},t)\\,\\mathbf{e}_i.\n",
    "$$\n",
    "\n",
    "This probabilistic interpretation makes LBM inherently statistical: collisions model how particle velocities redistribute toward equilibrium under local forces, and streaming moves those probabilities through space. It’s this combination of stochastic interpretation and discrete lattice mechanics that gives LBM both its physical fidelity and its remarkable parallel scalability.\n"
   ]
  },
  {
   "cell_type": "markdown",
   "id": "52f50035-9635-4589-989d-523b5e9f45dc",
   "metadata": {
    "editable": true,
    "slideshow": {
     "slide_type": ""
    },
    "tags": []
   },
   "source": [
    "## Starting Our First LBM Solver\n",
    "\n",
    "Implementing and optimizing an LBM solver on multi-GPU systems using Warp promises to be an engaging challenge. However, to focus on core computational details without getting bogged down in tedious solver setup, we will leverage a local Python library called `lbm`. This library handles setting up most of the LBM data structures and problem configuration.\n",
    "\n",
    "We'll fist start defining the size of our 2D domain and the number of iteration we wanto to run. \n",
    "<!-- <img src=\"img/lattice-discretization.jpg\" width=\"500\" height=\"340\"> -->\n",
    "\n",
    "We are going to use some reference results to check the correctness of the solver when we apply a change to the code. The reference results are obtained with the following set of parameters:\n",
    "\n",
    "`LBM Problem Parameters(nx=1024, ny=1024, num_steps=5000, Re=10000.0, prescribed_vel=0.5)`\n"
   ]
  },
  {
   "cell_type": "code",
   "execution_count": 1,
   "id": "99459cad-75d9-42e2-9cbe-588c08c9076e",
   "metadata": {
    "editable": true,
    "slideshow": {
     "slide_type": ""
    },
    "tags": []
   },
   "outputs": [
    {
     "name": "stdout",
     "output_type": "stream",
     "text": [
      "Warp 1.7.1 initialized:\n",
      "   CUDA Toolkit 12.8, Driver 12.8\n",
      "   Devices:\n",
      "     \"cpu\"      : \"x86_64\"\n",
      "     \"cuda:0\"   : \"NVIDIA RTX A4000\" (16 GiB, sm_86, mempool enabled)\n",
      "   Kernel cache:\n",
      "     /root/.cache/warp/1.7.1\n",
      "LBM Problem Parameters(nx=1024, ny=1024, num_steps=4, Re=10000.0, prescribed_vel=0.5)\n"
     ]
    }
   ],
   "source": [
    "import lbm\n",
    "import time\n",
    "import warp as wp\n",
    "wp.clear_kernel_cache()\n",
    "exercise_name = \"00-lbm-intro-aos\"\n",
    "\n",
    "params = lbm.Parameters(num_steps=4,\n",
    "                        nx=1024 ,\n",
    "                        ny=1024 ,\n",
    "                        prescribed_vel=0.5,\n",
    "                        Re=10000.0)\n",
    "print(params)\n"
   ]
  },
  {
   "cell_type": "markdown",
   "id": "b24a83d6-66ff-4756-81db-ae83adb93022",
   "metadata": {
    "editable": true,
    "slideshow": {
     "slide_type": ""
    },
    "tags": []
   },
   "source": [
    "The **Parameter** class stores some LBM constant, for example the represenation of the lattice. There are differnet lattices for LBM and ther following three are just an example.\n",
    "\n",
    "<figure>\n",
    "  <img src=\"img/lattices.jpg\" alt=\"LBM lattice structures in 2D and 3D\" width=\"500\" height=\"340\">\n",
    "  <figcaption><strong>Figure 2: LBM lattice structures in 2D and 3D</strong></figcaption>\n",
    "</figure>\n",
    "\n",
    "In our case, we'll be using a D2Q9. The velocity vectors of the D2Q9 are are represented by the **Parameter** via **c_host** and **c_dev** fields. It is worth noting that the lattice includes a null vector reprecenting the center of the cell. "
   ]
  },
  {
   "cell_type": "code",
   "execution_count": 2,
   "id": "a9dd367d-bfc3-42c7-ac9e-238c4246ef59",
   "metadata": {
    "editable": true,
    "slideshow": {
     "slide_type": ""
    },
    "tags": []
   },
   "outputs": [
    {
     "data": {
      "text/plain": [
       "(2, 9)"
      ]
     },
     "execution_count": 2,
     "metadata": {},
     "output_type": "execute_result"
    }
   ],
   "source": [
    "params.c_host.shape"
   ]
  },
  {
   "cell_type": "code",
   "execution_count": 3,
   "id": "f4d74c6a-56d9-4283-be12-e66ccd629078",
   "metadata": {},
   "outputs": [
    {
     "name": "stdout",
     "output_type": "stream",
     "text": [
      "D2Q9 \n",
      "[[ 0  0  0  1 -1  1 -1  1 -1]\n",
      " [ 0  1 -1  0  1 -1  0  1 -1]]\n"
     ]
    }
   ],
   "source": [
    "print(f\"D2Q9 \\n{params.c_host}\")"
   ]
  },
  {
   "cell_type": "markdown",
   "id": "35a5ffd1-5d97-4a1a-9d26-c935f059b702",
   "metadata": {},
   "source": [
    "The **Parameter** class also include functionality to retrieve opposite direction in the lattice as follows: "
   ]
  },
  {
   "cell_type": "code",
   "execution_count": 4,
   "id": "03fd2e4e-3653-4760-ae0c-a1dea241a69a",
   "metadata": {},
   "outputs": [
    {
     "name": "stdout",
     "output_type": "stream",
     "text": [
      "The opposite lattice direction of [ 0 -1] is [0 1]\n"
     ]
    }
   ],
   "source": [
    "a_target_direction = params.c_host[:,2]\n",
    "its_opposite = params.c_host[:,params.opp_indices_host[2]]\n",
    "print(f\"The opposite lattice direction of {a_target_direction} is {its_opposite}\")"
   ]
  },
  {
   "cell_type": "markdown",
   "id": "3592e205-7dbb-4826-9805-293c27d8f88b",
   "metadata": {},
   "source": [
    "## The LBM Domain\n",
    "\n",
    "<figure>\n",
    "  <img src=\"img/lattice-discretization.jpg\" alt=\"domain discretization in LBM\" width=\"500\" height=\"340\">\n",
    "  <figcaption><strong>Figure 3: domain discretization in LBM</strong></figcaption>\n",
    "</figure>\n",
    "In LBM, we discretize the domain with a Cartesian background grid. To represent the probability distribution fields \\(f_i\\), we store, for each cell, one floating-point value per lattice direction. Therefore, we need to allocate a three-dimensional array where two dimensions represent the 2D spatial domain and the third represents the number of directions.\n",
    "\n",
    "**In the following, please find the shape of the 3D array according to an Array-of-Structures layout.**"
   ]
  },
  {
   "cell_type": "code",
   "execution_count": 5,
   "id": "fb061fff-b421-4313-8294-223e58449e09",
   "metadata": {},
   "outputs": [],
   "source": [
    "f_0 = wp.zeros((params.nx, params.ny, params.Q), dtype=wp.float64)\n",
    "f_1 = wp.zeros((params.nx, params.ny, params.Q), dtype=wp.float64)"
   ]
  },
  {
   "cell_type": "markdown",
   "id": "48b6c0c5-9a43-4d16-ab6b-ba3e4c4e78bd",
   "metadata": {},
   "source": [
    "To abstract the access of the population fiels, we can define some read and write helper functions. "
   ]
  },
  {
   "cell_type": "code",
   "execution_count": 6,
   "id": "523e820e-b064-460d-b7e1-2df242cfc94b",
   "metadata": {},
   "outputs": [],
   "source": [
    "@wp.func\n",
    "def read_field(field: wp.array3d(dtype=wp.float64), card: wp.int32, xi: wp.int32, yi: wp.int32):\n",
    "    return field[xi, yi, card]\n",
    "\n",
    "@wp.func\n",
    "def write_field(field: wp.array3d(dtype=wp.float64), card: wp.int32, xi: wp.int32, yi: wp.int32,\n",
    "                value: wp.float64):\n",
    "    field[xi, yi, card] = value"
   ]
  },
  {
   "cell_type": "markdown",
   "id": "ddc2d9c3-38a6-431e-987c-bbfde4d1a34b",
   "metadata": {},
   "source": [
    "## Some Helper Functions\n",
    "\n",
    "In the following, we’ll use the **lbm** library to allocate additional fields for the macroscopic quantities. We aren’t concerned with these fields beyond visualization purposes—indeed, the population fields are the only state variables required for LBM. We will also define several functions and kernels that will serve as black boxes in our LBM solver."
   ]
  },
  {
   "cell_type": "code",
   "execution_count": 7,
   "id": "5b5e9441-faed-4018-838a-c6824f513810",
   "metadata": {},
   "outputs": [],
   "source": [
    "# Initialize the memory\n",
    "mem = lbm.Memory(params,\n",
    "                 f_0=f_0,\n",
    "                 f_1=f_1,\n",
    "                 read=read_field,\n",
    "                 write=write_field)\n",
    "\n",
    "# Initialize the kernels\n",
    "functions = lbm.Functions(params)\n",
    "kernels = lbm.Kernels(params, mem)\n",
    "\n",
    "Q = params.Q\n",
    "D = params.D\n",
    "bc_bulk = params.bc_bulk\n",
    "c_dev = params.c_dev\n",
    "dim_dev = params.dim_dev"
   ]
  },
  {
   "cell_type": "markdown",
   "id": "23fed23a-e204-424b-8445-d8147eef2b21",
   "metadata": {},
   "source": [
    "## The LBM Operators\n",
    "\n",
    "For the type of problem we are going to look at, an LBM iteration is composed of three operators: **streaming**, management of **boundary conditions**, and **collision**. \n",
    "We will not enter into the details of the numerical methods aspects of the operators, as this is out of the scope of this tutorial. \n",
    "\n",
    "<figure>\n",
    "  <img src=\"img/stream-bc-collide.jpg\" alt=\"LBM Loop\" width=\"500\" height=\"340\">\n",
    "  <figcaption><strong>Figure 4: LBM Loop</strong></figcaption>\n",
    "</figure>\n",
    "\n",
    "From a computational pattern perspective, **streaming** is a stencil operator: each cell reads information from its neighbours, as shown in the above picture. The remaining operators are **map** operators; they read and write only data associated with a single cell. \n",
    "\n",
    "For completeness, there are various techniques to implement LBM; we will be using a **two-population** method with a **pull** scheme. \n",
    "\n",
    "### Streaming\n",
    "\n",
    "In the streaming operator, each cell iterates over its neighbours according to the lattice directions (`pull_ngh[d] = index[d] - c_dev[d, q]`) and reads the corresponding population, as illustrated above. The operator also needs to check that the computed neighbour location does not fall outside the domain.\n"
   ]
  },
  {
   "cell_type": "code",
   "execution_count": 8,
   "id": "f6f4851f-428e-43fd-b4c4-6230d9cc0420",
   "metadata": {},
   "outputs": [],
   "source": [
    "@wp.kernel\n",
    "def stream(\n",
    "        f_in: wp.array3d(dtype=wp.float64),\n",
    "        f_out: wp.array3d(dtype=wp.float64),\n",
    "):\n",
    "    # Get the global index\n",
    "    ix, iy = wp.tid()\n",
    "    index = wp.vec2i(ix, iy)\n",
    "    f_post = wp.vec(length=Q, dtype=wp.float64)\n",
    "\n",
    "    for q in range(params.Q):\n",
    "        pull_ngh = wp.vec2i(0, 0)\n",
    "        outside_domain = False\n",
    "\n",
    "        for d in range(D):\n",
    "            pull_ngh[d] = index[d] - c_dev[d, q]\n",
    "\n",
    "            if pull_ngh[d] < 0 or pull_ngh[d] >= dim_dev[d]:\n",
    "                outside_domain = True\n",
    "        if not outside_domain:\n",
    "            f_post[q] = read_field(field=f_in, card=q, xi=pull_ngh[0], yi=pull_ngh[1])\n",
    "\n",
    "    # Set the output\n",
    "    for q in range(params.Q):\n",
    "        write_field(field=f_out, card=q, xi=index[0], yi=index[1], value=f_post[q])"
   ]
  },
  {
   "cell_type": "markdown",
   "id": "a9692a0e-6abb-4f5f-a9af-6073ec99f6b8",
   "metadata": {},
   "source": [
    "### Managing Boundary Conditions\n",
    "\n",
    "We are going to use simple boundary conditions and will rely on some capabilities provided by the local `lbm` Python library. For each cell that is not flagged as `bulk`, we will overwrite the population values using a `compute_boundary` warp function, which we retrieve from an `lbm.Function` object. Warp functions can be passed around to compose kernels like any other Python object."
   ]
  },
  {
   "cell_type": "code",
   "execution_count": 9,
   "id": "c88cbb2b-5d29-4bd5-a032-697e150da020",
   "metadata": {},
   "outputs": [],
   "source": [
    "compute_boundaries = functions.get_apply_boundary_conditions()"
   ]
  },
  {
   "cell_type": "code",
   "execution_count": 10,
   "id": "5a7c8ccf-4eb5-4a66-b0bc-fbcb795cd98b",
   "metadata": {},
   "outputs": [],
   "source": [
    "@wp.kernel\n",
    "def apply_boundary_conditions(\n",
    "        bc_type_field: wp.array2d(dtype=wp.uint8),\n",
    "        f_out: wp.array3d(dtype=wp.float64),\n",
    "):\n",
    "    # Get the global index\n",
    "    ix, iy = wp.tid()\n",
    "\n",
    "    bc_type = bc_type_field[ix, iy]\n",
    "    if bc_type == bc_bulk:\n",
    "        return\n",
    "\n",
    "    f = compute_boundaries(bc_type)\n",
    "\n",
    "    for q in range(params.Q):\n",
    "        write_field(field=f_out, card=q, xi=ix, yi=iy, value=f[q])"
   ]
  },
  {
   "cell_type": "markdown",
   "id": "85070598-2728-492c-911e-5149e08f8e07",
   "metadata": {},
   "source": [
    "### Collision\n",
    "This is a *map* operator and it operates in place on one LBM population field (`f`).  \n",
    "The `f_post_stream` object is a vector of nine elements representing data read from memory; this vector should be considered a C array allocated on the stack.\n"
   ]
  },
  {
   "cell_type": "code",
   "execution_count": 11,
   "id": "ae3adde3-3597-43ad-a895-159759f3c622",
   "metadata": {},
   "outputs": [],
   "source": [
    "compute_macroscopic = functions.get_macroscopic()\n",
    "compute_equilibrium = functions.get_equilibrium()\n",
    "compute_collision = functions.get_kbc()"
   ]
  },
  {
   "cell_type": "code",
   "execution_count": 12,
   "id": "b9e58ad5-b5bd-4dc5-9431-802ebfad0599",
   "metadata": {},
   "outputs": [],
   "source": [
    "@wp.kernel\n",
    "def collide(\n",
    "        f: wp.array3d(dtype=wp.float64),\n",
    "        omega: wp.float64,\n",
    "):\n",
    "    # Get the global index\n",
    "    ix, iy = wp.tid()\n",
    "    # Get the equilibrium\n",
    "\n",
    "    f_post_stream = wp.vec(length=Q, dtype=wp.float64)\n",
    "    for q in range(params.Q):\n",
    "        f_post_stream[q] = read_field(field=f, card=q, xi=ix, yi=iy)\n",
    "\n",
    "    mcrpc = compute_macroscopic(f_post_stream)\n",
    "\n",
    "    # Compute the equilibrium\n",
    "    f_eq = compute_equilibrium(mcrpc)\n",
    "\n",
    "    f_post_collision = compute_collision(f_post_stream, f_eq, mcrpc, omega)\n",
    "\n",
    "    # Set the output\n",
    "    for q in range(params.Q):\n",
    "        write_field(field=f, card=q, xi=ix, yi=iy, value=f_post_collision[q])"
   ]
  },
  {
   "cell_type": "markdown",
   "id": "15c789be-fa63-4475-9fdc-4dbb494a79d3",
   "metadata": {},
   "source": [
    "## Proble Setup\n",
    "\n",
    "We rely again on the `lbm` library to set up a typical CFD problem called **lid-driven cavity flow (LDC)**. The setup is simple: we consider a box filled with fluid, where on the lid we impose a tangential velocity. During the simulation, the lid’s velocity is propagated to the fluid.  \n",
    "The following GIF shows the evolution of an LDC in a 3D domain.\n",
    "\n",
    "\n",
    "<figure>\n",
    "  <img src=\"img/ldc-3d.gif\" alt=\"Wind turbine from XLB library\">\n",
    "  <figcaption><strong>Figure 5: A 3D LDC problem run in the XLB library</strong></figcaption>\n",
    "</figure>\n",
    "\n"
   ]
  },
  {
   "cell_type": "code",
   "execution_count": 13,
   "id": "b8e27b55-e03c-4948-a07a-2ca7d25cf977",
   "metadata": {},
   "outputs": [
    {
     "name": "stdout",
     "output_type": "stream",
     "text": [
      "Module lbm.kernels 218bc5d load on device 'cuda:0' took 172.54 ms  (compiled)\n",
      "Module lbm.kernels fd66b4b load on device 'cuda:0' took 325.90 ms  (compiled)\n"
     ]
    },
    {
     "data": {
      "text/plain": [
       "<Figure size 640x480 with 0 Axes>"
      ]
     },
     "metadata": {},
     "output_type": "display_data"
    }
   ],
   "source": [
    "lbm.setup_LDC_problem(params=params, mem=mem)\n",
    "lbm.export_setup(prefix=exercise_name, params=params, mem=mem)"
   ]
  },
  {
   "cell_type": "markdown",
   "id": "7e1b8011-606c-4ca6-8ca1-b206efe064b7",
   "metadata": {},
   "source": [
    "The following lines set up a 2D LDC problem and export the distribution of boundary types to a PNG file.  \n",
    "Cells with a **wall** boundary condition are shown in green, the lid is shown in white, and black cells represent the **bulk**, i.e., fluid internal cells.\n",
    "\n",
    "<figure>\n",
    "  <img src=\"lbm-intro-aos_bc_0000.png\" alt=\"LDC setup\" width=\"250\" height=\"340\">\n",
    "  <figcaption><strong>Figure 5: LDC setup</strong></figcaption>\n",
    "</figure>\n"
   ]
  },
  {
   "cell_type": "markdown",
   "id": "f9460ac2-abaa-4b38-b10a-8d385c2787a3",
   "metadata": {},
   "source": [
    "## LMB iteration\n",
    "\n",
    "As shown in Figure 4, the LBM iteration is just implemented by the execution of the stream, apply boundary condition, collision kernels. At the end of the iteration the input and output 3D arrays are swapped for the next iteration. "
   ]
  },
  {
   "cell_type": "code",
   "execution_count": 14,
   "id": "2723a8bf-84bf-4d1e-92e9-61d9980c208e",
   "metadata": {
    "editable": true,
    "slideshow": {
     "slide_type": ""
    },
    "tags": []
   },
   "outputs": [],
   "source": [
    "def iterate():\n",
    "    wp.launch(stream,\n",
    "              dim=params.launch_dim,\n",
    "              inputs=[mem.f_0, mem.f_1],\n",
    "              device=\"cuda\")\n",
    "\n",
    "    wp.launch(apply_boundary_conditions,\n",
    "              dim=params.launch_dim,\n",
    "              inputs=[mem.bc_type, mem.f_1],\n",
    "              device=\"cuda\")\n",
    "\n",
    "    wp.launch(collide,\n",
    "              dim=params.launch_dim,\n",
    "              inputs=[mem.f_1, params.omega],\n",
    "              device=\"cuda\")\n",
    "    # Swap the fields\n",
    "    mem.f_0, mem.f_1 = mem.f_1, mem.f_0"
   ]
  },
  {
   "cell_type": "markdown",
   "id": "aee161ca-944e-46e5-9594-15fb9f777379",
   "metadata": {},
   "source": [
    "## Bechmarking \n",
    "\n",
    "In order to completely focus on the runtime performance without including the compilation overhead, we execute a warmup iteration, then we start timing the main LBM loop. At the end, we print performance statistics and export the final velocity magnitude. Figure 6, shows the reference velocity for the LDC with the following parameters is\n",
    "\n",
    "```\n",
    "params = lbm.Parameters(num_steps=5000,\n",
    "                        nx=1024 ,\n",
    "                        ny=1024 ,\n",
    "                        prescribed_vel=0.5,\n",
    "                        Re=10000.0)\n",
    "```\n",
    "\n",
    "<figure>\n",
    "  <img src=\"lbm-intro-aos_reference_u_5000.png\" alt=\"LDC setup\" width=\"250\" height=\"340\">\n",
    "  <figcaption><strong>Figure 6: LDC velocity magnitude</strong></figcaption>\n",
    "</figure>"
   ]
  },
  {
   "cell_type": "code",
   "execution_count": 15,
   "id": "37647134-b50b-422a-be1b-d34a7a668f88",
   "metadata": {
    "editable": true,
    "slideshow": {
     "slide_type": ""
    },
    "tags": []
   },
   "outputs": [
    {
     "name": "stdout",
     "output_type": "stream",
     "text": [
      "Module __main__ d0e9453 load on device 'cuda:0' took 849.12 ms  (compiled)\n",
      "Module lbm.kernels 70eb1dc load on device 'cuda:0' took 412.47 ms  (compiled)\n"
     ]
    },
    {
     "data": {
      "text/plain": [
       "<Figure size 640x480 with 0 Axes>"
      ]
     },
     "metadata": {},
     "output_type": "display_data"
    }
   ],
   "source": [
    "# Warm up iteration\n",
    "iterate()\n",
    "\n",
    "# Wait for the warm-up to finish.\n",
    "wp.synchronize()\n",
    "# Start timer\n",
    "start = time.time()\n",
    "for it in range(params.num_steps):\n",
    "    iterate()\n",
    "\n",
    "wp.synchronize()\n",
    "stop = time.time()\n",
    "\n",
    "# Saving the velocity magnitude.\n",
    "lbm.export_final(prefix=exercise_name, params=params, mem=mem, f=mem.f_0)\n",
    "\n",
    "\n"
   ]
  },
  {
   "cell_type": "code",
   "execution_count": null,
   "id": "b2309e0f-44da-46dd-b9f3-32aaa2134bbc",
   "metadata": {},
   "outputs": [
    {
     "name": "stdout",
     "output_type": "stream",
     "text": [
      "Generating '/tmp/nsys-report-abaf.qdstrm'\n",
      "[1/2] [========================100%] lbm-intro-aos_2025-06-01T08:51:53.nsys-rep\n",
      "[2/2] [========================100%] lbm-intro-aos_2025-06-01T08:51:53.sqlite\n",
      "Generated:\n",
      "    /dli/task/nsight-reports/lbm-intro-aos_2025-06-01T08:51:53.nsys-rep\n",
      "    /dli/task/nsight-reports/lbm-intro-aos_2025-06-01T08:51:53.sqlite\n",
      "Generating SQLite file /dli/task/nsight-reports/lbm-intro-aos_2025-06-01T08:51:53.sqlite from /dli/task/nsight-reports/lbm-intro-aos_2025-06-01T08:51:53.nsys-rep\n",
      "Processing [/dli/task/nsight-reports/lbm-intro-aos_2025-06-01T08:51:53.sqlite] with [/opt/nvidia/nsight-systems/2024.7.1/host-linux-x64/reports/nvtx_sum.py]... \n",
      "SKIPPED: /dli/task/nsight-reports/lbm-intro-aos_2025-06-01T08:51:53.sqlite does not contain NV Tools Extension (NVTX) data.\n",
      "\n",
      "Processing [/dli/task/nsight-reports/lbm-intro-aos_2025-06-01T08:51:53.sqlite] with [/opt/nvidia/nsight-systems/2024.7.1/host-linux-x64/reports/osrt_sum.py]... \n",
      "\n",
      " ** OS Runtime Summary (osrt_sum):\n",
      "\n",
      " Time (%)  Total Time (ns)  Num Calls   Avg (ns)     Med (ns)    Min (ns)   Max (ns)   StdDev (ns)           Name         \n",
      " --------  ---------------  ---------  -----------  -----------  --------  ----------  -----------  ----------------------\n",
      "     48.5       4331719180         57   75995073.3      66460.0      1041  1389696116  250786300.3  epoll_wait            \n",
      "     22.4       2003127530          4  500781882.5  500777038.0    554602  1001018852  577612675.5  select                \n",
      "     16.2       1450025571        276    5253715.8     513330.0      1031    29770699    7037905.0  poll                  \n",
      "     12.2       1091741923        151    7230079.0      16555.0      1011   500277913   57318987.0  pthread_cond_timedwait\n",
      "      0.1         13319972         30     443999.1       5237.5      1222    12164918    2217121.4  ioctl                 \n",
      "      0.1          9094793         94      96753.1       9884.5      3295     8010967     825306.4  fopen                 \n",
      "      0.1          8568164          4    2142041.0    1089349.5      1012     6388453    2886000.0  fdatasync             \n",
      "      0.1          5055634          1    5055634.0    5055634.0   5055634     5055634          0.0  nanosleep             \n",
      "      0.0          3054443          2    1527221.5    1527221.5      4347     3050096    2153669.8  waitpid               \n",
      "      0.0          2447981         23     106434.0       9724.0      1342      533771     185642.5  pthread_mutex_lock    \n",
      "      0.0          2025289         19     106594.2      13350.0      5348      574211     177689.5  pthread_cond_wait     \n",
      "      0.0          1224649          9     136072.1      37937.0     17627      687952     225172.9  sem_clockwait         \n",
      "      0.0          1174562          2     587281.0     587281.0      8583     1165979     818402.6  backtrace             \n",
      "      0.0          1171616        492       2381.3       2243.5      1001        9244       1193.0  getc                  \n",
      "      0.0           661852         10      66185.2      31707.5      1322      215824      78882.6  fread                 \n",
      "      0.0           646131         32      20191.6       2524.0      1001      424637      76789.4  write                 \n",
      "      0.0           541691         24      22570.5      16769.5      3225      109955      22923.5  send                  \n",
      "      0.0           480411          1     480411.0     480411.0    480411      480411          0.0  posix_spawn           \n",
      "      0.0           341303         18      18961.3       8817.5      3195       73641      19664.3  open64                \n",
      "      0.0           277978          6      46329.7      50260.5     15253       61853      15922.9  fgets                 \n",
      "      0.0           274331          6      45721.8      42168.0     37126       69113      11752.8  pthread_create        \n",
      "      0.0           210416          2     105208.0     105208.0     12689      197727     130841.6  pthread_join          \n",
      "      0.0           195994         89       2202.2       2403.0      1042       12078       1351.7  fclose                \n",
      "      0.0           179080         53       3378.9       1743.0      1462       23756       4446.3  stat64                \n",
      "      0.0           134214         61       2200.2       1813.0      1021        9465       1527.0  pthread_cond_signal   \n",
      "      0.0           116675          3      38891.7      48443.0      1602       66630      33549.7  fwrite                \n",
      "      0.0            88722         22       4032.8       2373.5      1042       24477       5361.5  read                  \n",
      "      0.0            85389         14       6099.2       3120.0      1162       18848       6483.4  pwrite64              \n",
      "      0.0            69381         37       1875.2       1523.0      1002        4557        973.3  epoll_ctl             \n",
      "      0.0            67542          1      67542.0      67542.0     67542       67542          0.0  connect               \n",
      "      0.0            54253         16       3390.8       2919.0      2353        6680       1313.6  lstat64               \n",
      "      0.0            52259          7       7465.6       7141.0      3525       12038       2685.0  open                  \n",
      "      0.0            45547          8       5693.4       3855.5      2233       15413       4258.2  mmap64                \n",
      "      0.0            28604         11       2600.4       2584.0      1092        3805        811.5  recv                  \n",
      "      0.0            26400          3       8800.0      10365.0      4367       11668       3894.0  munmap                \n",
      "      0.0            23877          5       4775.4       1783.0      1082       10956       4596.8  sigaction             \n",
      "      0.0            21862          4       5465.5       4321.5      2784       10435       3570.4  pipe2                 \n",
      "      0.0            16555          2       8277.5       8277.5      3786       12769       6351.9  pread64               \n",
      "      0.0            16415          4       4103.8       4276.5      2423        5439       1528.3  prctl                 \n",
      "      0.0            12849          3       4283.0       4647.0      2073        6129       2052.4  fopen64               \n",
      "      0.0            12838          7       1834.0       1452.0      1061        2944        720.3  fcntl                 \n",
      "      0.0            12188          1      12188.0      12188.0     12188       12188          0.0  pipe                  \n",
      "      0.0            12098          4       3024.5       2053.0      1302        6690       2524.0  pthread_cond_broadcast\n",
      "      0.0            12026          4       3006.5       3119.5      1221        4566       1660.8  fcntl64               \n",
      "      0.0            11708          2       5854.0       5854.0      4967        6741       1254.4  mmap                  \n",
      "      0.0            10976          1      10976.0      10976.0     10976       10976          0.0  socket                \n",
      "      0.0             9144          4       2286.0       2534.0      1262        2814        700.1  fstat64               \n",
      "      0.0             8443          1       8443.0       8443.0      8443        8443          0.0  kill                  \n",
      "      0.0             1312          1       1312.0       1312.0      1312        1312          0.0  dup2                  \n",
      "\n",
      "Processing [/dli/task/nsight-reports/lbm-intro-aos_2025-06-01T08:51:53.sqlite] with [/opt/nvidia/nsight-systems/2024.7.1/host-linux-x64/reports/cuda_api_sum.py]... \n",
      "\n",
      " ** CUDA API Summary (cuda_api_sum):\n",
      "\n",
      " Time (%)  Total Time (ns)  Num Calls   Avg (ns)    Med (ns)   Min (ns)  Max (ns)  StdDev (ns)              Name            \n",
      " --------  ---------------  ---------  ----------  ----------  --------  --------  -----------  ----------------------------\n",
      "     49.6         28659702          5   5731940.4    482573.0       982  23112511    9945650.1  cuCtxSynchronize            \n",
      "     39.4         22737939          2  11368969.5  11368969.5   8865429  13872510    3540540.9  cuModuleLoadDataEx          \n",
      "     10.7          6209175          1   6209175.0   6209175.0   6209175   6209175          0.0  cudaMemcpyAsync             \n",
      "      0.1            75924         16      4745.3      2364.0      1873     19218       5683.8  cuLaunchKernel              \n",
      "      0.1            71667          1     71667.0     71667.0     71667     71667          0.0  cuModuleUnload              \n",
      "      0.0            13328         21       634.7       170.0       140      3866       1130.4  cudaStreamIsCapturing_v10000\n",
      "      0.0             8854          1      8854.0      8854.0      8854      8854          0.0  cuEventRecord               \n",
      "      0.0             2453          1      2453.0      2453.0      2453      2453          0.0  cuStreamWaitEvent           \n",
      "\n",
      "Processing [/dli/task/nsight-reports/lbm-intro-aos_2025-06-01T08:51:53.sqlite] with [/opt/nvidia/nsight-systems/2024.7.1/host-linux-x64/reports/cuda_gpu_kern_sum.py]... \n",
      "\n",
      " ** CUDA GPU Kernel Summary (cuda_gpu_kern_sum):\n",
      "\n",
      " Time (%)  Total Time (ns)  Instances  Avg (ns)   Med (ns)   Min (ns)  Max (ns)  StdDev (ns)                                     Name                                   \n",
      " --------  ---------------  ---------  ---------  ---------  --------  --------  -----------  --------------------------------------------------------------------------\n",
      "     88.4         25639710          5  5127942.0  5227481.0   4729943   5228410     222490.3  collide_089eb54d_cuda_kernel_forward                                      \n",
      "      8.6          2485740          5   497148.0   482114.0    481315    557827      33923.0  stream_d61d3102_cuda_kernel_forward                                       \n",
      "      1.7           496259          1   496259.0   496259.0    496259    496259          0.0  Kernels__get_macroscopic__locals__macroscopic_7e97aea2_cuda_kernel_forward\n",
      "      1.3           388385          5    77677.0    25824.0     23968    288673     117954.3  apply_boundary_conditions_c0cfb6fe_cuda_kernel_forward                    \n",
      "\n",
      "Processing [/dli/task/nsight-reports/lbm-intro-aos_2025-06-01T08:51:53.sqlite] with [/opt/nvidia/nsight-systems/2024.7.1/host-linux-x64/reports/cuda_gpu_mem_time_sum.py]... \n",
      "\n",
      " ** CUDA GPU MemOps Summary (by Time) (cuda_gpu_mem_time_sum):\n",
      "\n",
      " Time (%)  Total Time (ns)  Count  Avg (ns)   Med (ns)   Min (ns)  Max (ns)  StdDev (ns)           Operation          \n",
      " --------  ---------------  -----  ---------  ---------  --------  --------  -----------  ----------------------------\n",
      "    100.0          5530107      1  5530107.0  5530107.0   5530107   5530107          0.0  [CUDA memcpy Device-to-Host]\n",
      "\n",
      "Processing [/dli/task/nsight-reports/lbm-intro-aos_2025-06-01T08:51:53.sqlite] with [/opt/nvidia/nsight-systems/2024.7.1/host-linux-x64/reports/cuda_gpu_mem_size_sum.py]... \n",
      "\n",
      " ** CUDA GPU MemOps Summary (by Size) (cuda_gpu_mem_size_sum):\n",
      "\n",
      " Total (MB)  Count  Avg (MB)  Med (MB)  Min (MB)  Max (MB)  StdDev (MB)           Operation          \n",
      " ----------  -----  --------  --------  --------  --------  -----------  ----------------------------\n",
      "     16.777      1    16.777    16.777    16.777    16.777        0.000  [CUDA memcpy Device-to-Host]\n",
      "\n",
      "Processing [/dli/task/nsight-reports/lbm-intro-aos_2025-06-01T08:51:53.sqlite] with [/opt/nvidia/nsight-systems/2024.7.1/host-linux-x64/reports/openmp_sum.py]... \n",
      "SKIPPED: /dli/task/nsight-reports/lbm-intro-aos_2025-06-01T08:51:53.sqlite does not contain OpenMP event data.\n",
      "\n",
      "Processing [/dli/task/nsight-reports/lbm-intro-aos_2025-06-01T08:51:53.sqlite] with [/opt/nvidia/nsight-systems/2024.7.1/host-linux-x64/reports/opengl_khr_range_sum.py]... \n",
      "SKIPPED: /dli/task/nsight-reports/lbm-intro-aos_2025-06-01T08:51:53.sqlite does not contain KHR Extension (KHR_DEBUG) data.\n",
      "\n",
      "Processing [/dli/task/nsight-reports/lbm-intro-aos_2025-06-01T08:51:53.sqlite] with [/opt/nvidia/nsight-systems/2024.7.1/host-linux-x64/reports/opengl_khr_gpu_range_sum.py]... \n",
      "SKIPPED: /dli/task/nsight-reports/lbm-intro-aos_2025-06-01T08:51:53.sqlite does not contain GPU KHR Extension (KHR_DEBUG) data.\n",
      "\n",
      "Processing [/dli/task/nsight-reports/lbm-intro-aos_2025-06-01T08:51:53.sqlite] with [/opt/nvidia/nsight-systems/2024.7.1/host-linux-x64/reports/vulkan_marker_sum.py]... \n",
      "SKIPPED: /dli/task/nsight-reports/lbm-intro-aos_2025-06-01T08:51:53.sqlite does not contain Vulkan Debug Extension (Vulkan Debug Util) data.\n",
      "\n",
      "Processing [/dli/task/nsight-reports/lbm-intro-aos_2025-06-01T08:51:53.sqlite] with [/opt/nvidia/nsight-systems/2024.7.1/host-linux-x64/reports/vulkan_gpu_marker_sum.py]... \n",
      "SKIPPED: /dli/task/nsight-reports/lbm-intro-aos_2025-06-01T08:51:53.sqlite does not contain GPU Vulkan Debug Extension (GPU Vulkan Debug markers) data.\n",
      "\n",
      "Processing [/dli/task/nsight-reports/lbm-intro-aos_2025-06-01T08:51:53.sqlite] with [/opt/nvidia/nsight-systems/2024.7.1/host-linux-x64/reports/dx11_pix_sum.py]... \n",
      "SKIPPED: /dli/task/nsight-reports/lbm-intro-aos_2025-06-01T08:51:53.sqlite does not contain DX11 CPU debug markers.\n",
      "\n",
      "Processing [/dli/task/nsight-reports/lbm-intro-aos_2025-06-01T08:51:53.sqlite] with [/opt/nvidia/nsight-systems/2024.7.1/host-linux-x64/reports/dx12_gpu_marker_sum.py]... \n",
      "SKIPPED: /dli/task/nsight-reports/lbm-intro-aos_2025-06-01T08:51:53.sqlite does not contain DX12 GPU debug markers.\n",
      "\n",
      "Processing [/dli/task/nsight-reports/lbm-intro-aos_2025-06-01T08:51:53.sqlite] with [/opt/nvidia/nsight-systems/2024.7.1/host-linux-x64/reports/dx12_pix_sum.py]... \n",
      "SKIPPED: /dli/task/nsight-reports/lbm-intro-aos_2025-06-01T08:51:53.sqlite does not contain DX12 CPU debug markers.\n",
      "\n",
      "Processing [/dli/task/nsight-reports/lbm-intro-aos_2025-06-01T08:51:53.sqlite] with [/opt/nvidia/nsight-systems/2024.7.1/host-linux-x64/reports/wddm_queue_sum.py]... \n",
      "SKIPPED: /dli/task/nsight-reports/lbm-intro-aos_2025-06-01T08:51:53.sqlite does not contain WDDM context data.\n",
      "\n",
      "Processing [/dli/task/nsight-reports/lbm-intro-aos_2025-06-01T08:51:53.sqlite] with [/opt/nvidia/nsight-systems/2024.7.1/host-linux-x64/reports/um_sum.py]... \n",
      "SKIPPED: /dli/task/nsight-reports/lbm-intro-aos_2025-06-01T08:51:53.sqlite does not contain CUDA Unified Memory CPU page faults data.\n",
      "\n",
      "Processing [/dli/task/nsight-reports/lbm-intro-aos_2025-06-01T08:51:53.sqlite] with [/opt/nvidia/nsight-systems/2024.7.1/host-linux-x64/reports/um_total_sum.py]... \n",
      "SKIPPED: /dli/task/nsight-reports/lbm-intro-aos_2025-06-01T08:51:53.sqlite does not contain CUDA Unified Memory CPU page faults data.\n",
      "\n",
      "Processing [/dli/task/nsight-reports/lbm-intro-aos_2025-06-01T08:51:53.sqlite] with [/opt/nvidia/nsight-systems/2024.7.1/host-linux-x64/reports/um_cpu_page_faults_sum.py]... \n",
      "SKIPPED: /dli/task/nsight-reports/lbm-intro-aos_2025-06-01T08:51:53.sqlite does not contain CUDA Unified Memory CPU page faults data.\n",
      "\n",
      "Processing [/dli/task/nsight-reports/lbm-intro-aos_2025-06-01T08:51:53.sqlite] with [/opt/nvidia/nsight-systems/2024.7.1/host-linux-x64/reports/openacc_sum.py]... \n",
      "SKIPPED: /dli/task/nsight-reports/lbm-intro-aos_2025-06-01T08:51:53.sqlite does not contain OpenACC event data.\n",
      "\n",
      "Processing [/dli/task/nsight-reports/lbm-intro-aos_2025-06-01T08:51:53.sqlite] with [/opt/nvidia/nsight-systems/2024.7.1/host-linux-x64/reports/syscall_sum.py]... \n",
      "SKIPPED: /dli/task/nsight-reports/lbm-intro-aos_2025-06-01T08:51:53.sqlite does not contain syscall data.\n",
      "\n"
     ]
    }
   ],
   "source": []
  },
  {
   "cell_type": "markdown",
   "id": "8ce2e7b7-7bf4-4b45-85a2-d1f4d5304977",
   "metadata": {
    "editable": true,
    "slideshow": {
     "slide_type": ""
    },
    "tags": []
   },
   "source": [
    "## Performance\n",
    "\n",
    "For the LBM performance we are interested in the time spent in the main loop, but even more in its throughput. Usually we would look at the number of floating point operation per second, however we will focused on a more easy to compute metric called MLUPS: Million Lattice Update Per Second. This is the reference metric in the LBM community. In the next couple of LBM exercises we'll consider MLUPS are reference metric to compare different implemenatations."
   ]
  },
  {
   "cell_type": "code",
   "execution_count": null,
   "id": "7718de91-22e3-45ab-9b80-6f1616ebd1e3",
   "metadata": {},
   "outputs": [],
   "source": [
    "# Printing some statistics.\n",
    "elapsed_time = stop - start\n",
    "mlups = params.compute_mlups(elapsed_time)\n",
    "print(f\"--------------------------------------------\")\n",
    "print(f\"Exercise: {exercise_name}\")\n",
    "print(f\"Main loop time: {elapsed_time:5.3f} seconds\")\n",
    "print(f\"MLUPS:          {mlups:5.1f}\")\n",
    "print(f\"--------------------------------------------\")"
   ]
  },
  {
   "cell_type": "markdown",
   "id": "1a87ef84-715a-4db9-a210-618ff0d66ce0",
   "metadata": {},
   "source": [
    "## Profiling\n",
    "\n",
    "More information on the behaviour of out application running on a GPU can be extracted by simply using a profiler. Nvidia provides two main tool that are usefull to our case: [nsigh system](https://developer.nvidia.com/nsight-systems) and [nsigth compute](https://developer.nvidia.com/nsight-compute). The first provide a system wide informatino of the execution, while the second focuses on single kernel in-depth runtime analysis. We are oging to use only nsight system. \n",
    "\n",
    "We can run nsigh-system directly from this notebook, by enabling it as in the following figures;\n",
    "\n",
    "<div style=\"display: flex; align-items: flex-start;\">\n",
    "\n",
    "  <figure style=\"margin-right: 5%; width: 30%; text-align: center;\">\n",
    "    <img src=\"img/activate-nsys-01.png\" style=\"width: 100%;\" />\n",
    "    <figcaption><strong>Figure 8: Play with nsight-system</strong></figcaption>\n",
    "  </figure>\n",
    "\n",
    "  <figure style=\"width: 30%; text-align: center;\">\n",
    "    <img src=\"img/activate-nsys-02.png\" style=\"width: 100%;\" />\n",
    "    <figcaption><strong>Figure 8: Play with nsight-system</strong></figcaption>\n",
    "  </figure>\n",
    "\n",
    "</div>\n",
    "\n",
    "**Note:** the solver behaviour will not change drastically from one iteration to the other. As the profiler will add some overhead to the execution and will capture a lot of information, we may want to reduce the numer of iterations of the solver before running the proviler. \n",
    "\n",
    "Plaing a notebook cell with the green play icon will automatically run the cell within the profiler and will print performance statistics. The profiling session will also create a local file that you can download and inspect locally with the Nsigh System UI:\n",
    "\n",
    "\n",
    "\n",
    "<div style=\"display: flex; align-items: flex-start;\">\n",
    "\n",
    "  <figure style=\"margin-right: 5%; width: 20%; text-align: center;\">\n",
    "    <img src=\"img/activate-nsys-03.png\" style=\"width: 100%;\" />\n",
    "    <figcaption><strong>Figure 9: Nsigh System report folder</strong></figcaption>\n",
    "  </figure>\n",
    "\n",
    "  <figure style=\"width: 20%; text-align: center;\">\n",
    "    <img src=\"img/activate-nsys-04.png\" style=\"width: 100%;\" />\n",
    "    <figcaption><strong>Figure 10: Download</strong></figcaption>\n",
    "  </figure>\n",
    "</div>\n",
    "\n",
    "One dowloaded and loaded onto the UI you can zoom into the interested area and check timeline of the application:\n",
    "<figure>\n",
    "  <img src=\"img/aos-nsys.png\" alt=\"LDC setup\" width=\"100%\">\n",
    "  <figcaption><strong>Figure 11: Profiler</strong></figcaption>\n",
    "</figure>"
   ]
  }
 ],
 "metadata": {
  "kernelspec": {
   "display_name": "Python 3 (ipykernel)",
   "language": "python",
   "name": "python3"
  },
  "language_info": {
   "codemirror_mode": {
    "name": "ipython",
    "version": 3
   },
   "file_extension": ".py",
   "mimetype": "text/x-python",
   "name": "python",
   "nbconvert_exporter": "python",
   "pygments_lexer": "ipython3",
   "version": "3.10.12"
  }
 },
 "nbformat": 4,
 "nbformat_minor": 5
}
