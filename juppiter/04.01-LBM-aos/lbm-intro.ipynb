{
 "cells": [
  {
   "cell_type": "markdown",
   "id": "3f42b27c-a6b9-4cd3-afb5-a90b9e010c87",
   "metadata": {
    "editable": true,
    "slideshow": {
     "slide_type": ""
    },
    "tags": []
   },
   "source": [
    "# LBM\n",
    "\n",
    "![Wind turbine from XLB library]()\n",
    "\n",
    "<figure>\n",
    "  <img src=\"https://raw.githubusercontent.com/autodesk/xlb/main/assets/wind_turbine.gif\" alt=\"Wind turbine from XLB library\">\n",
    "  <figcaption><strong>Figure 1: Wind turbine from XLB library</strong></figcaption>\n",
    "</figure>\n",
    "\n",
    "The Lattice Boltzmann method is a relatively new numerical technique in computational fluid dynamics (CFD). It offers computational features that make it extremely scalable on large-scale HPC systems. We will explore how some of the multi-GPU programming techniques presented in the previous exercises can be applied to an LBM-based solver.\n",
    "\n",
    "Next, we introduce some basic concepts of LBM for a 2D problem. For general information, see the Wikipedia page: [Lattice Boltzmann methods](https://en.wikipedia.org/wiki/Lattice_Boltzmann_methods).\n",
    "\n",
    "Part of the code in these exercises has been adapted from the XLB library—a scalable, differentiable, open-source Python library for LBM developed by Autodesk. To run and profile more complex problems, check out its GitHub page: [XLB](https://github.com/Autodesk/XLB).\n",
    "\n"
   ]
  },
  {
   "cell_type": "markdown",
   "id": "4b471dfa-c105-4bb1-9dcb-7e747b9ab325",
   "metadata": {},
   "source": [
    "## Lattice Boltzmann Method \n",
    "In the Lattice Boltzmann Method (LBM), the state of the fluid at each lattice node is represented by a set of particle distribution functions, $f_i(\\mathbf{x}, t)$. Each $f_i$ can be thought of as the probability (or, more precisely, the expected number) of finding a fluid “particle” at position $\\mathbf{x}$ and time $t$ that is moving along the discrete velocity direction $\\mathbf{e}_i$. Rather than tracking individual molecules, LBM evolves these distributions through collision and streaming steps. In the collision step, the distributions at each node relax toward a local equilibrium—the Maxwell–Boltzmann distribution projected onto the discrete velocity set—ensuring that mass and momentum are conserved. In the streaming step, these post‐collision distributions propagate to neighboring nodes, advecting the particle probabilities across the lattice.\n",
    "\n",
    "Because each distribution $f_i$ carries a fraction of the local density and momentum, macroscopic properties are retrieved simply by summing over all directions:\n",
    "\n",
    "$$\n",
    "\\rho(\\mathbf{x},t) \\;=\\; \\sum_{i} f_i(\\mathbf{x},t),\n",
    "\\qquad\n",
    "\\rho(\\mathbf{x},t)\\,\\mathbf{u}(\\mathbf{x},t) \\;=\\; \\sum_{i} f_i(\\mathbf{x},t)\\,\\mathbf{e}_i.\n",
    "$$\n",
    "\n",
    "This probabilistic interpretation makes LBM inherently statistical: collisions model how particle velocities redistribute toward equilibrium under local forces, and streaming moves those probabilities through space. It’s this combination of stochastic interpretation and discrete lattice mechanics that gives LBM both its physical fidelity and its remarkable parallel scalability.\n"
   ]
  },
  {
   "cell_type": "markdown",
   "id": "52f50035-9635-4589-989d-523b5e9f45dc",
   "metadata": {
    "editable": true,
    "slideshow": {
     "slide_type": ""
    },
    "tags": []
   },
   "source": [
    "## Starting Our First LBM Solver\n",
    "\n",
    "Implementing and optimizing an LBM solver on multi-GPU systems using Warp promises to be an engaging challenge. However, to focus on core computational details without getting bogged down in tedious solver setup, we will leverage a local Python library called **lbm**. This library handles setting up most of the LBM data structures and problem configuration.\n",
    "\n",
    "We'll fist start defining the size of our 2D domain and the number of iteration we wanto to run. \n",
    "<!-- <img src=\"img/lattice-discretization.jpg\" width=\"500\" height=\"340\"> -->\n"
   ]
  },
  {
   "cell_type": "code",
   "execution_count": 34,
   "id": "99459cad-75d9-42e2-9cbe-588c08c9076e",
   "metadata": {
    "editable": true,
    "slideshow": {
     "slide_type": ""
    },
    "tags": []
   },
   "outputs": [
    {
     "name": "stdout",
     "output_type": "stream",
     "text": [
      "LBM Problem Parameters(nx=1024, ny=1024, num_steps=5000, Re=10000.0, prescribed_vel=0.5)\n"
     ]
    }
   ],
   "source": [
    "import lbm\n",
    "import time\n",
    "import warp as wp\n",
    "wp.clear_kernel_cache()\n",
    "exercise_name = \"01_AoS_user\"\n",
    "\n",
    "# Initializing the LBM parameters\n",
    "params = lbm.Parameters(num_steps=5000,\n",
    "                        nx=1024,\n",
    "                        ny=1024,\n",
    "                        prescribed_vel=0.5,\n",
    "                        Re=10000.0)\n",
    "print(params)\n"
   ]
  },
  {
   "cell_type": "markdown",
   "id": "b24a83d6-66ff-4756-81db-ae83adb93022",
   "metadata": {
    "editable": true,
    "slideshow": {
     "slide_type": ""
    },
    "tags": []
   },
   "source": [
    "The **Parameter** class stores some LBM constant, for example the represenation of the lattice. There are differnet lattices for LBM and ther following three are just an example:We will be using the D2Q9 lattice, its represenation can seen as follows\n",
    "\n",
    "<img src=\"img/lattices.jpg\" width=\"500\" height=\"340\">\n",
    "\n",
    "In our case, we'll be using a D2Q9. The velocity vectors of the D2Q9 are are represented by the **Parameter** via **c_host** and **c_dev** fields. It is worth noting that the lattice includes a null vector reprecenting the center of the cell. "
   ]
  },
  {
   "cell_type": "code",
   "execution_count": 38,
   "id": "a9dd367d-bfc3-42c7-ac9e-238c4246ef59",
   "metadata": {
    "editable": true,
    "slideshow": {
     "slide_type": ""
    },
    "tags": []
   },
   "outputs": [
    {
     "data": {
      "text/plain": [
       "(2, 9)"
      ]
     },
     "execution_count": 38,
     "metadata": {},
     "output_type": "execute_result"
    }
   ],
   "source": [
    "params.c_host.shape"
   ]
  },
  {
   "cell_type": "code",
   "execution_count": 39,
   "id": "f4d74c6a-56d9-4283-be12-e66ccd629078",
   "metadata": {},
   "outputs": [
    {
     "name": "stdout",
     "output_type": "stream",
     "text": [
      "D2Q9 \n",
      "[[ 0  0  0  1 -1  1 -1  1 -1]\n",
      " [ 0  1 -1  0  1 -1  0  1 -1]]\n"
     ]
    }
   ],
   "source": [
    "print(f\"D2Q9 \\n{params.c_host}\")"
   ]
  },
  {
   "cell_type": "markdown",
   "id": "35a5ffd1-5d97-4a1a-9d26-c935f059b702",
   "metadata": {},
   "source": [
    "The **Parameter** class also include functionality to retrieve opposite direction in the lattice as follows: "
   ]
  },
  {
   "cell_type": "code",
   "execution_count": 40,
   "id": "03fd2e4e-3653-4760-ae0c-a1dea241a69a",
   "metadata": {},
   "outputs": [
    {
     "name": "stdout",
     "output_type": "stream",
     "text": [
      "The opposite of [ 0 -1] is [0 1]\n"
     ]
    }
   ],
   "source": [
    "a_target_direction = params.c_host[:,2]\n",
    "its_opposite = params.c_host[:,params.opp_indices_host[2]]\n",
    "print(f\"The opposite of {a_target_direction} is {its_opposite}\")"
   ]
  },
  {
   "cell_type": "markdown",
   "id": "3592e205-7dbb-4826-9805-293c27d8f88b",
   "metadata": {},
   "source": [
    "## The LBM Domain\n",
    "\n",
    "<img src=\"img/lattice-discretization.jpg\" width=\"500\" height=\"340\">\n",
    "\n",
    "In LBM, we discretize the domain with a Cartesian background grid. To represent the probability distribution fields \\(f_i\\), we store, for each cell, one floating-point value per lattice direction. Therefore, we need to allocate a three-dimensional array where two dimensions represent the 2D spatial domain and the third represents the number of directions.\n",
    "\n",
    "**In the following, please find the shape of the 3D array according to an Array-of-Structures layout.**"
   ]
  },
  {
   "cell_type": "code",
   "execution_count": 41,
   "id": "fb061fff-b421-4313-8294-223e58449e09",
   "metadata": {},
   "outputs": [],
   "source": [
    "f_0 = wp.zeros((params.nx, params.ny, params.Q), dtype=wp.float64)\n",
    "f_1 = wp.zeros((params.nx, params.ny, params.Q), dtype=wp.float64)"
   ]
  },
  {
   "cell_type": "markdown",
   "id": "48b6c0c5-9a43-4d16-ab6b-ba3e4c4e78bd",
   "metadata": {},
   "source": [
    "To abstract the access of the population fiels, we can define some read and write helper functions. "
   ]
  },
  {
   "cell_type": "code",
   "execution_count": 42,
   "id": "523e820e-b064-460d-b7e1-2df242cfc94b",
   "metadata": {},
   "outputs": [],
   "source": [
    "@wp.func\n",
    "def read_field(field: wp.array3d(dtype=wp.float64), card: wp.int32, xi: wp.int32, yi: wp.int32):\n",
    "    return field[xi, yi, card]\n",
    "\n",
    "@wp.func\n",
    "def write_field(field: wp.array3d(dtype=wp.float64), card: wp.int32, xi: wp.int32, yi: wp.int32,\n",
    "                value: wp.float64):\n",
    "    field[xi, yi, card] = value"
   ]
  },
  {
   "cell_type": "markdown",
   "id": "ddc2d9c3-38a6-431e-987c-bbfde4d1a34b",
   "metadata": {},
   "source": [
    "## Some Helper Functions\n",
    "\n",
    "In the following, we’ll use the **lbm** library to allocate additional fields for the macroscopic quantities. We aren’t concerned with these fields beyond visualization purposes—indeed, the population fields are the only state variables required for LBM. We will also define several functions and kernels that will serve as black boxes in our LBM solver."
   ]
  },
  {
   "cell_type": "code",
   "execution_count": 43,
   "id": "5b5e9441-faed-4018-838a-c6824f513810",
   "metadata": {},
   "outputs": [],
   "source": [
    "# Initialize the memory\n",
    "mem = lbm.Memory(params,\n",
    "                 f_0=f_0,\n",
    "                 f_1=f_1,\n",
    "                 read=read_field,\n",
    "                 write=write_field)\n",
    "\n",
    "# Initialize the kernels\n",
    "functions = lbm.Functions(params)\n",
    "kernels = lbm.Kernels(params, mem)\n",
    "\n",
    "Q = params.Q\n",
    "D = params.D\n",
    "bc_bulk = params.bc_bulk\n",
    "c_dev = params.c_dev\n",
    "dim_dev = params.dim_dev"
   ]
  },
  {
   "cell_type": "markdown",
   "id": "23fed23a-e204-424b-8445-d8147eef2b21",
   "metadata": {},
   "source": [
    "## The LBM Operators\n",
    "### Streaming"
   ]
  },
  {
   "cell_type": "code",
   "execution_count": null,
   "id": "f6f4851f-428e-43fd-b4c4-6230d9cc0420",
   "metadata": {},
   "outputs": [],
   "source": [
    "@wp.kernel\n",
    "def stream(\n",
    "        f_in: wp.array3d(dtype=wp.float64),\n",
    "        f_out: wp.array3d(dtype=wp.float64),\n",
    "):\n",
    "    # Get the global index\n",
    "    ix, iy = wp.tid()\n",
    "    index = wp.vec2i(ix, iy)\n",
    "    f_post = wp.vec(length=Q, dtype=wp.float64)\n",
    "\n",
    "    for q in range(params.Q):\n",
    "        pull_ngh = wp.vec2i(0, 0)\n",
    "        outside_domain = False\n",
    "\n",
    "        for d in range(D):\n",
    "            pull_ngh[d] = index[d] - c_dev[d, q]\n",
    "\n",
    "            if pull_ngh[d] < 0 or pull_ngh[d] >= dim_dev[d]:\n",
    "                outside_domain = True\n",
    "        if not outside_domain:\n",
    "            f_post[q] = read_field(field=f_in, card=q, xi=pull_ngh[0], yi=pull_ngh[1])\n",
    "\n",
    "    # Set the output\n",
    "    for q in range(params.Q):\n",
    "        write_field(field=f_out, card=q, xi=index[0], yi=index[1], value=f_post[q])"
   ]
  },
  {
   "cell_type": "markdown",
   "id": "a9692a0e-6abb-4f5f-a9af-6073ec99f6b8",
   "metadata": {},
   "source": [
    "### Managing boundary conditions"
   ]
  },
  {
   "cell_type": "code",
   "execution_count": null,
   "id": "c88cbb2b-5d29-4bd5-a032-697e150da020",
   "metadata": {},
   "outputs": [],
   "source": [
    "compute_boundaries = functions.get_apply_boundary_conditions()"
   ]
  },
  {
   "cell_type": "code",
   "execution_count": null,
   "id": "5a7c8ccf-4eb5-4a66-b0bc-fbcb795cd98b",
   "metadata": {},
   "outputs": [],
   "source": [
    "@wp.kernel\n",
    "def apply_boundary_conditions(\n",
    "        bc_type_field: wp.array2d(dtype=wp.uint8),\n",
    "        f_out: wp.array3d(dtype=wp.float64),\n",
    "):\n",
    "    # Get the global index\n",
    "    ix, iy = wp.tid()\n",
    "\n",
    "    bc_type = bc_type_field[ix, iy]\n",
    "    if bc_type == bc_bulk:\n",
    "        return\n",
    "\n",
    "    f = compute_boundaries(bc_type)\n",
    "\n",
    "    for q in range(params.Q):\n",
    "        write_field(field=f_out, card=q, xi=ix, yi=iy, value=f[q])"
   ]
  },
  {
   "cell_type": "markdown",
   "id": "85070598-2728-492c-911e-5149e08f8e07",
   "metadata": {},
   "source": [
    "### Collision"
   ]
  },
  {
   "cell_type": "code",
   "execution_count": null,
   "id": "ae3adde3-3597-43ad-a895-159759f3c622",
   "metadata": {},
   "outputs": [],
   "source": [
    "compute_macroscopic = functions.get_macroscopic()\n",
    "compute_equilibrium = functions.get_equilibrium()\n",
    "compute_collision = functions.get_kbc()"
   ]
  },
  {
   "cell_type": "code",
   "execution_count": null,
   "id": "b9e58ad5-b5bd-4dc5-9431-802ebfad0599",
   "metadata": {},
   "outputs": [],
   "source": [
    "@wp.kernel\n",
    "def collide(\n",
    "        f: wp.array3d(dtype=wp.float64),\n",
    "        omega: wp.float64,\n",
    "):\n",
    "    # Get the global index\n",
    "    ix, iy = wp.tid()\n",
    "    # Get the equilibrium\n",
    "\n",
    "    f_post_stream = wp.vec(length=Q, dtype=wp.float64)\n",
    "    for q in range(params.Q):\n",
    "        f_post_stream[q] = read_field(field=f, card=q, xi=ix, yi=iy)\n",
    "\n",
    "    mcrpc = compute_macroscopic(f_post_stream)\n",
    "\n",
    "    # Compute the equilibrium\n",
    "    f_eq = compute_equilibrium(mcrpc)\n",
    "\n",
    "    f_post_collision = compute_collision(f_post_stream, f_eq, mcrpc, omega)\n",
    "\n",
    "    # Set the output\n",
    "    for q in range(params.Q):\n",
    "        write_field(field=f, card=q, xi=ix, yi=iy, value=f_post_collision[q])"
   ]
  },
  {
   "cell_type": "code",
   "execution_count": null,
   "id": "9fd4b625-114d-4e24-b603-f151109afb54",
   "metadata": {},
   "outputs": [],
   "source": []
  }
 ],
 "metadata": {
  "kernelspec": {
   "display_name": "Python 3 (ipykernel)",
   "language": "python",
   "name": "python3"
  },
  "language_info": {
   "codemirror_mode": {
    "name": "ipython",
    "version": 3
   },
   "file_extension": ".py",
   "mimetype": "text/x-python",
   "name": "python",
   "nbconvert_exporter": "python",
   "pygments_lexer": "ipython3",
   "version": "3.10.12"
  }
 },
 "nbformat": 4,
 "nbformat_minor": 5
}
